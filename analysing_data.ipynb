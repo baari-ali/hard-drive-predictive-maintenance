{
 "cells": [
  {
   "cell_type": "markdown",
   "source": [
    "### Importing initial modules"
   ],
   "metadata": {
    "collapsed": false
   },
   "id": "687b31552889d0ea"
  },
  {
   "cell_type": "code",
   "outputs": [],
   "source": [
    "import os\n",
    "import numpy as np\n",
    "import pandas as pd"
   ],
   "metadata": {
    "collapsed": false,
    "ExecuteTime": {
     "end_time": "2024-02-01T21:01:45.913252100Z",
     "start_time": "2024-02-01T21:01:45.476456500Z"
    }
   },
   "id": "905ea8dc2f99c4e4",
   "execution_count": 1
  },
  {
   "cell_type": "code",
   "outputs": [
    {
     "data": {
      "text/plain": "'C:\\\\Users\\\\baari\\\\Documents\\\\uni\\\\y3\\\\project\\\\final_project\\\\hard-drive-predictive-maintenance'"
     },
     "execution_count": 3,
     "metadata": {},
     "output_type": "execute_result"
    }
   ],
   "source": [
    "os.getcwd()"
   ],
   "metadata": {
    "collapsed": false,
    "ExecuteTime": {
     "end_time": "2024-02-01T21:02:32.550604100Z",
     "start_time": "2024-02-01T21:02:32.501239900Z"
    }
   },
   "id": "76c32991d76e74b5",
   "execution_count": 3
  },
  {
   "cell_type": "code",
   "outputs": [],
   "source": [
    "df = pd.read_csv('Q1_2019.csv')"
   ],
   "metadata": {
    "collapsed": false
   },
   "id": "faa43e5012a59039"
  },
  {
   "cell_type": "code",
   "outputs": [],
   "source": [
    "df.shape"
   ],
   "metadata": {
    "collapsed": false
   },
   "id": "cbbd737762f04533"
  },
  {
   "cell_type": "code",
   "outputs": [],
   "source": [
    "df.head()"
   ],
   "metadata": {
    "collapsed": false
   },
   "id": "69c757e88f2df4d3"
  },
  {
   "cell_type": "code",
   "outputs": [],
   "source": [
    "df.tail()"
   ],
   "metadata": {
    "collapsed": false
   },
   "id": "a5592ea1dd999175"
  },
  {
   "cell_type": "code",
   "outputs": [],
   "source": [
    "df['failure'].value_counts()"
   ],
   "metadata": {
    "collapsed": false
   },
   "id": "bf15b7128307d584"
  },
  {
   "cell_type": "markdown",
   "source": [
    "### Handling missing values"
   ],
   "metadata": {
    "collapsed": false
   },
   "id": "6d0468d9ab05104"
  },
  {
   "cell_type": "code",
   "outputs": [],
   "source": [
    "total_cells = np.prod(df.shape)\n",
    "total_cells"
   ],
   "metadata": {
    "collapsed": false
   },
   "id": "d34c5b94a0fb02f7"
  },
  {
   "cell_type": "code",
   "outputs": [],
   "source": [
    "missing_values_count = df.isnull().sum()\n",
    "missing_values_count[0:10]"
   ],
   "metadata": {
    "collapsed": false
   },
   "id": "c4c80076d8c1d310"
  },
  {
   "cell_type": "code",
   "outputs": [],
   "source": [
    "total_missing = missing_values_count.sum()\n",
    "total_missing"
   ],
   "metadata": {
    "collapsed": false
   },
   "id": "78dbe483084928c5"
  },
  {
   "cell_type": "code",
   "outputs": [],
   "source": [
    "percent_missing = total_missing / total_cells * 100\n",
    "print(f'{percent_missing}% of the data is missing')"
   ],
   "metadata": {
    "collapsed": false
   },
   "id": "32358f22cd1ad239"
  },
  {
   "cell_type": "code",
   "outputs": [],
   "source": [
    "columns_before = df.columns\n",
    "\n",
    "# Remove columns that have all null values\n",
    "df = df.dropna(axis=1, how='all')\n",
    "\n",
    "columns_after = df.columns\n",
    "\n",
    "removed_columns = set(columns_before) - set(columns_after)\n",
    "print(f'Columns removed: {removed_columns}')"
   ],
   "metadata": {
    "collapsed": false
   },
   "id": "8a8c5c103dccb260"
  },
  {
   "cell_type": "code",
   "outputs": [],
   "source": [
    "total_cells = np.prod(df.shape)\n",
    "total_missing = df.isnull().sum().sum()\n",
    "percent_missing = total_missing / total_cells * 100\n",
    "print(f'{percent_missing}% of the data is missing')"
   ],
   "metadata": {
    "collapsed": false
   },
   "id": "3ee72ebd4ca4779f"
  }
 ],
 "metadata": {
  "kernelspec": {
   "display_name": "Python 3",
   "language": "python",
   "name": "python3"
  },
  "language_info": {
   "codemirror_mode": {
    "name": "ipython",
    "version": 2
   },
   "file_extension": ".py",
   "mimetype": "text/x-python",
   "name": "python",
   "nbconvert_exporter": "python",
   "pygments_lexer": "ipython2",
   "version": "2.7.6"
  }
 },
 "nbformat": 4,
 "nbformat_minor": 5
}
