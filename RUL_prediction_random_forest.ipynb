{
 "cells": [
  {
   "cell_type": "markdown",
   "source": [
    "### Importing initial modules"
   ],
   "metadata": {
    "collapsed": false
   },
   "id": "813f67e377320599"
  },
  {
   "cell_type": "code",
   "execution_count": 1,
   "id": "initial_id",
   "metadata": {
    "collapsed": true,
    "ExecuteTime": {
     "end_time": "2024-01-31T16:56:03.169819900Z",
     "start_time": "2024-01-31T16:56:02.732057600Z"
    }
   },
   "outputs": [],
   "source": [
    "import os\n",
    "import numpy as np\n",
    "import pandas as pd"
   ]
  },
  {
   "cell_type": "code",
   "outputs": [
    {
     "data": {
      "text/plain": "'C:\\\\Users\\\\baari\\\\Desktop\\\\hard-drive-predictive-maintenance'"
     },
     "execution_count": 2,
     "metadata": {},
     "output_type": "execute_result"
    }
   ],
   "source": [
    "os.getcwd()"
   ],
   "metadata": {
    "collapsed": false,
    "ExecuteTime": {
     "end_time": "2024-01-31T16:56:26.436357500Z",
     "start_time": "2024-01-31T16:56:26.392605600Z"
    }
   },
   "id": "2b5c1cf7d26a14e5",
   "execution_count": 2
  },
  {
   "cell_type": "markdown",
   "source": [
    "### Changing to the correct directory if not already"
   ],
   "metadata": {
    "collapsed": false
   },
   "id": "7932226e998e0486"
  },
  {
   "cell_type": "code",
   "outputs": [
    {
     "data": {
      "text/plain": "'C:\\\\Users\\\\baari\\\\Desktop\\\\hard-drive-predictive-maintenance'"
     },
     "execution_count": 3,
     "metadata": {},
     "output_type": "execute_result"
    }
   ],
   "source": [
    "path = '/Users/baari/Desktop/hard-drive-predictive-maintenance'\n",
    "os.chdir(path)\n",
    "os.getcwd()"
   ],
   "metadata": {
    "collapsed": false,
    "ExecuteTime": {
     "end_time": "2024-01-31T16:56:44.594170900Z",
     "start_time": "2024-01-31T16:56:44.581636300Z"
    }
   },
   "id": "46214bc5099021a",
   "execution_count": 3
  },
  {
   "cell_type": "code",
   "outputs": [],
   "source": [
    "df = pd.read_csv('Q1_2019.csv')"
   ],
   "metadata": {
    "collapsed": false,
    "ExecuteTime": {
     "end_time": "2024-02-01T10:50:44.935536800Z",
     "start_time": "2024-02-01T10:46:36.855787200Z"
    }
   },
   "id": "1cc9d3946a3811f9",
   "execution_count": 22
  },
  {
   "cell_type": "code",
   "outputs": [
    {
     "data": {
      "text/plain": "(9577046, 129)"
     },
     "execution_count": 23,
     "metadata": {},
     "output_type": "execute_result"
    }
   ],
   "source": [
    "df.shape"
   ],
   "metadata": {
    "collapsed": false,
    "ExecuteTime": {
     "end_time": "2024-02-01T10:51:19.177501900Z",
     "start_time": "2024-02-01T10:51:19.101955600Z"
    }
   },
   "id": "c3d9fb9a0dda7c07",
   "execution_count": 23
  },
  {
   "cell_type": "code",
   "outputs": [
    {
     "data": {
      "text/plain": "         date   serial_number                 model  capacity_bytes  failure  \\\n0  2019-01-01        Z305B2QN           ST4000DM000   4000787030016        0   \n1  2019-01-01        ZJV0XJQ4         ST12000NM0007  12000138625024        0   \n2  2019-01-01        ZJV0XJQ3         ST12000NM0007  12000138625024        0   \n3  2019-01-01        ZJV0XJQ0         ST12000NM0007  12000138625024        0   \n4  2019-01-01  PL1331LAHG1S4H  HGST HMS5C4040ALE640   4000787030016        0   \n\n   smart_1_normalized  smart_1_raw  smart_2_normalized  smart_2_raw  \\\n0               111.0   35673128.0                 NaN          NaN   \n1                83.0  187116872.0                 NaN          NaN   \n2                73.0   19599104.0                 NaN          NaN   \n3                81.0  136943696.0                 NaN          NaN   \n4               100.0          0.0               134.0        103.0   \n\n   smart_3_normalized  ...  smart_250_normalized  smart_250_raw  \\\n0                91.0  ...                   NaN            NaN   \n1                98.0  ...                   NaN            NaN   \n2                99.0  ...                   NaN            NaN   \n3                93.0  ...                   NaN            NaN   \n4               100.0  ...                   NaN            NaN   \n\n   smart_251_normalized  smart_251_raw  smart_252_normalized  smart_252_raw  \\\n0                   NaN            NaN                   NaN            NaN   \n1                   NaN            NaN                   NaN            NaN   \n2                   NaN            NaN                   NaN            NaN   \n3                   NaN            NaN                   NaN            NaN   \n4                   NaN            NaN                   NaN            NaN   \n\n   smart_254_normalized  smart_254_raw  smart_255_normalized  smart_255_raw  \n0                   NaN            NaN                   NaN            NaN  \n1                   NaN            NaN                   NaN            NaN  \n2                   NaN            NaN                   NaN            NaN  \n3                   NaN            NaN                   NaN            NaN  \n4                   NaN            NaN                   NaN            NaN  \n\n[5 rows x 129 columns]",
      "text/html": "<div>\n<style scoped>\n    .dataframe tbody tr th:only-of-type {\n        vertical-align: middle;\n    }\n\n    .dataframe tbody tr th {\n        vertical-align: top;\n    }\n\n    .dataframe thead th {\n        text-align: right;\n    }\n</style>\n<table border=\"1\" class=\"dataframe\">\n  <thead>\n    <tr style=\"text-align: right;\">\n      <th></th>\n      <th>date</th>\n      <th>serial_number</th>\n      <th>model</th>\n      <th>capacity_bytes</th>\n      <th>failure</th>\n      <th>smart_1_normalized</th>\n      <th>smart_1_raw</th>\n      <th>smart_2_normalized</th>\n      <th>smart_2_raw</th>\n      <th>smart_3_normalized</th>\n      <th>...</th>\n      <th>smart_250_normalized</th>\n      <th>smart_250_raw</th>\n      <th>smart_251_normalized</th>\n      <th>smart_251_raw</th>\n      <th>smart_252_normalized</th>\n      <th>smart_252_raw</th>\n      <th>smart_254_normalized</th>\n      <th>smart_254_raw</th>\n      <th>smart_255_normalized</th>\n      <th>smart_255_raw</th>\n    </tr>\n  </thead>\n  <tbody>\n    <tr>\n      <th>0</th>\n      <td>2019-01-01</td>\n      <td>Z305B2QN</td>\n      <td>ST4000DM000</td>\n      <td>4000787030016</td>\n      <td>0</td>\n      <td>111.0</td>\n      <td>35673128.0</td>\n      <td>NaN</td>\n      <td>NaN</td>\n      <td>91.0</td>\n      <td>...</td>\n      <td>NaN</td>\n      <td>NaN</td>\n      <td>NaN</td>\n      <td>NaN</td>\n      <td>NaN</td>\n      <td>NaN</td>\n      <td>NaN</td>\n      <td>NaN</td>\n      <td>NaN</td>\n      <td>NaN</td>\n    </tr>\n    <tr>\n      <th>1</th>\n      <td>2019-01-01</td>\n      <td>ZJV0XJQ4</td>\n      <td>ST12000NM0007</td>\n      <td>12000138625024</td>\n      <td>0</td>\n      <td>83.0</td>\n      <td>187116872.0</td>\n      <td>NaN</td>\n      <td>NaN</td>\n      <td>98.0</td>\n      <td>...</td>\n      <td>NaN</td>\n      <td>NaN</td>\n      <td>NaN</td>\n      <td>NaN</td>\n      <td>NaN</td>\n      <td>NaN</td>\n      <td>NaN</td>\n      <td>NaN</td>\n      <td>NaN</td>\n      <td>NaN</td>\n    </tr>\n    <tr>\n      <th>2</th>\n      <td>2019-01-01</td>\n      <td>ZJV0XJQ3</td>\n      <td>ST12000NM0007</td>\n      <td>12000138625024</td>\n      <td>0</td>\n      <td>73.0</td>\n      <td>19599104.0</td>\n      <td>NaN</td>\n      <td>NaN</td>\n      <td>99.0</td>\n      <td>...</td>\n      <td>NaN</td>\n      <td>NaN</td>\n      <td>NaN</td>\n      <td>NaN</td>\n      <td>NaN</td>\n      <td>NaN</td>\n      <td>NaN</td>\n      <td>NaN</td>\n      <td>NaN</td>\n      <td>NaN</td>\n    </tr>\n    <tr>\n      <th>3</th>\n      <td>2019-01-01</td>\n      <td>ZJV0XJQ0</td>\n      <td>ST12000NM0007</td>\n      <td>12000138625024</td>\n      <td>0</td>\n      <td>81.0</td>\n      <td>136943696.0</td>\n      <td>NaN</td>\n      <td>NaN</td>\n      <td>93.0</td>\n      <td>...</td>\n      <td>NaN</td>\n      <td>NaN</td>\n      <td>NaN</td>\n      <td>NaN</td>\n      <td>NaN</td>\n      <td>NaN</td>\n      <td>NaN</td>\n      <td>NaN</td>\n      <td>NaN</td>\n      <td>NaN</td>\n    </tr>\n    <tr>\n      <th>4</th>\n      <td>2019-01-01</td>\n      <td>PL1331LAHG1S4H</td>\n      <td>HGST HMS5C4040ALE640</td>\n      <td>4000787030016</td>\n      <td>0</td>\n      <td>100.0</td>\n      <td>0.0</td>\n      <td>134.0</td>\n      <td>103.0</td>\n      <td>100.0</td>\n      <td>...</td>\n      <td>NaN</td>\n      <td>NaN</td>\n      <td>NaN</td>\n      <td>NaN</td>\n      <td>NaN</td>\n      <td>NaN</td>\n      <td>NaN</td>\n      <td>NaN</td>\n      <td>NaN</td>\n      <td>NaN</td>\n    </tr>\n  </tbody>\n</table>\n<p>5 rows × 129 columns</p>\n</div>"
     },
     "execution_count": 29,
     "metadata": {},
     "output_type": "execute_result"
    }
   ],
   "source": [
    "df.head()"
   ],
   "metadata": {
    "collapsed": false,
    "ExecuteTime": {
     "end_time": "2024-02-01T10:54:12.682124700Z",
     "start_time": "2024-02-01T10:54:12.656133400Z"
    }
   },
   "id": "2d0498dd054500ff",
   "execution_count": 29
  },
  {
   "cell_type": "code",
   "outputs": [
    {
     "data": {
      "text/plain": "               date   serial_number                 model  capacity_bytes  \\\n9577041  2019-03-31  PL1331LAHD1AWH  HGST HMS5C4040BLE640   4000787030016   \n9577042  2019-03-31        ZA10MCEQ           ST8000DM002   8001563222016   \n9577043  2019-03-31        ZCH0CRTK         ST12000NM0007  12000138625024   \n9577044  2019-03-31  PL1331LAHD1T5H  HGST HMS5C4040BLE640   4000787030016   \n9577045  2019-03-31  PL2331LAHDS4TJ  HGST HMS5C4040BLE640   4000787030016   \n\n         failure  smart_1_normalized  smart_1_raw  smart_2_normalized  \\\n9577041        0               100.0          0.0               134.0   \n9577042        0                72.0   15233376.0                 NaN   \n9577043        0                81.0  122099464.0                 NaN   \n9577044        0               100.0          0.0               134.0   \n9577045        0               100.0          0.0               133.0   \n\n         smart_2_raw  smart_3_normalized  ...  smart_250_normalized  \\\n9577041        100.0               100.0  ...                   NaN   \n9577042          NaN                94.0  ...                   NaN   \n9577043          NaN                97.0  ...                   NaN   \n9577044        101.0               148.0  ...                   NaN   \n9577045        104.0               100.0  ...                   NaN   \n\n         smart_250_raw  smart_251_normalized  smart_251_raw  \\\n9577041            NaN                   NaN            NaN   \n9577042            NaN                   NaN            NaN   \n9577043            NaN                   NaN            NaN   \n9577044            NaN                   NaN            NaN   \n9577045            NaN                   NaN            NaN   \n\n         smart_252_normalized  smart_252_raw  smart_254_normalized  \\\n9577041                   NaN            NaN                   NaN   \n9577042                   NaN            NaN                   NaN   \n9577043                   NaN            NaN                   NaN   \n9577044                   NaN            NaN                   NaN   \n9577045                   NaN            NaN                   NaN   \n\n         smart_254_raw  smart_255_normalized  smart_255_raw  \n9577041            NaN                   NaN            NaN  \n9577042            NaN                   NaN            NaN  \n9577043            NaN                   NaN            NaN  \n9577044            NaN                   NaN            NaN  \n9577045            NaN                   NaN            NaN  \n\n[5 rows x 129 columns]",
      "text/html": "<div>\n<style scoped>\n    .dataframe tbody tr th:only-of-type {\n        vertical-align: middle;\n    }\n\n    .dataframe tbody tr th {\n        vertical-align: top;\n    }\n\n    .dataframe thead th {\n        text-align: right;\n    }\n</style>\n<table border=\"1\" class=\"dataframe\">\n  <thead>\n    <tr style=\"text-align: right;\">\n      <th></th>\n      <th>date</th>\n      <th>serial_number</th>\n      <th>model</th>\n      <th>capacity_bytes</th>\n      <th>failure</th>\n      <th>smart_1_normalized</th>\n      <th>smart_1_raw</th>\n      <th>smart_2_normalized</th>\n      <th>smart_2_raw</th>\n      <th>smart_3_normalized</th>\n      <th>...</th>\n      <th>smart_250_normalized</th>\n      <th>smart_250_raw</th>\n      <th>smart_251_normalized</th>\n      <th>smart_251_raw</th>\n      <th>smart_252_normalized</th>\n      <th>smart_252_raw</th>\n      <th>smart_254_normalized</th>\n      <th>smart_254_raw</th>\n      <th>smart_255_normalized</th>\n      <th>smart_255_raw</th>\n    </tr>\n  </thead>\n  <tbody>\n    <tr>\n      <th>9577041</th>\n      <td>2019-03-31</td>\n      <td>PL1331LAHD1AWH</td>\n      <td>HGST HMS5C4040BLE640</td>\n      <td>4000787030016</td>\n      <td>0</td>\n      <td>100.0</td>\n      <td>0.0</td>\n      <td>134.0</td>\n      <td>100.0</td>\n      <td>100.0</td>\n      <td>...</td>\n      <td>NaN</td>\n      <td>NaN</td>\n      <td>NaN</td>\n      <td>NaN</td>\n      <td>NaN</td>\n      <td>NaN</td>\n      <td>NaN</td>\n      <td>NaN</td>\n      <td>NaN</td>\n      <td>NaN</td>\n    </tr>\n    <tr>\n      <th>9577042</th>\n      <td>2019-03-31</td>\n      <td>ZA10MCEQ</td>\n      <td>ST8000DM002</td>\n      <td>8001563222016</td>\n      <td>0</td>\n      <td>72.0</td>\n      <td>15233376.0</td>\n      <td>NaN</td>\n      <td>NaN</td>\n      <td>94.0</td>\n      <td>...</td>\n      <td>NaN</td>\n      <td>NaN</td>\n      <td>NaN</td>\n      <td>NaN</td>\n      <td>NaN</td>\n      <td>NaN</td>\n      <td>NaN</td>\n      <td>NaN</td>\n      <td>NaN</td>\n      <td>NaN</td>\n    </tr>\n    <tr>\n      <th>9577043</th>\n      <td>2019-03-31</td>\n      <td>ZCH0CRTK</td>\n      <td>ST12000NM0007</td>\n      <td>12000138625024</td>\n      <td>0</td>\n      <td>81.0</td>\n      <td>122099464.0</td>\n      <td>NaN</td>\n      <td>NaN</td>\n      <td>97.0</td>\n      <td>...</td>\n      <td>NaN</td>\n      <td>NaN</td>\n      <td>NaN</td>\n      <td>NaN</td>\n      <td>NaN</td>\n      <td>NaN</td>\n      <td>NaN</td>\n      <td>NaN</td>\n      <td>NaN</td>\n      <td>NaN</td>\n    </tr>\n    <tr>\n      <th>9577044</th>\n      <td>2019-03-31</td>\n      <td>PL1331LAHD1T5H</td>\n      <td>HGST HMS5C4040BLE640</td>\n      <td>4000787030016</td>\n      <td>0</td>\n      <td>100.0</td>\n      <td>0.0</td>\n      <td>134.0</td>\n      <td>101.0</td>\n      <td>148.0</td>\n      <td>...</td>\n      <td>NaN</td>\n      <td>NaN</td>\n      <td>NaN</td>\n      <td>NaN</td>\n      <td>NaN</td>\n      <td>NaN</td>\n      <td>NaN</td>\n      <td>NaN</td>\n      <td>NaN</td>\n      <td>NaN</td>\n    </tr>\n    <tr>\n      <th>9577045</th>\n      <td>2019-03-31</td>\n      <td>PL2331LAHDS4TJ</td>\n      <td>HGST HMS5C4040BLE640</td>\n      <td>4000787030016</td>\n      <td>0</td>\n      <td>100.0</td>\n      <td>0.0</td>\n      <td>133.0</td>\n      <td>104.0</td>\n      <td>100.0</td>\n      <td>...</td>\n      <td>NaN</td>\n      <td>NaN</td>\n      <td>NaN</td>\n      <td>NaN</td>\n      <td>NaN</td>\n      <td>NaN</td>\n      <td>NaN</td>\n      <td>NaN</td>\n      <td>NaN</td>\n      <td>NaN</td>\n    </tr>\n  </tbody>\n</table>\n<p>5 rows × 129 columns</p>\n</div>"
     },
     "execution_count": 30,
     "metadata": {},
     "output_type": "execute_result"
    }
   ],
   "source": [
    "df.tail()"
   ],
   "metadata": {
    "collapsed": false,
    "ExecuteTime": {
     "end_time": "2024-02-01T10:54:17.365367400Z",
     "start_time": "2024-02-01T10:54:17.305644100Z"
    }
   },
   "id": "8dfe0285c6bb9bde",
   "execution_count": 30
  },
  {
   "cell_type": "code",
   "outputs": [
    {
     "data": {
      "text/plain": "failure\n0    9576618\n1        428\nName: count, dtype: int64"
     },
     "execution_count": 24,
     "metadata": {},
     "output_type": "execute_result"
    }
   ],
   "source": [
    "df['failure'].value_counts()"
   ],
   "metadata": {
    "collapsed": false,
    "ExecuteTime": {
     "end_time": "2024-02-01T10:52:01.724123300Z",
     "start_time": "2024-02-01T10:52:01.612444Z"
    }
   },
   "id": "45aa4660f7d3c37b",
   "execution_count": 24
  },
  {
   "cell_type": "markdown",
   "source": [
    "### Handling missing values"
   ],
   "metadata": {
    "collapsed": false
   },
   "id": "9ba589ddef52b7a7"
  },
  {
   "cell_type": "code",
   "outputs": [
    {
     "data": {
      "text/plain": "1235438934"
     },
     "execution_count": 25,
     "metadata": {},
     "output_type": "execute_result"
    }
   ],
   "source": [
    "total_cells = np.prod(df.shape)\n",
    "total_cells"
   ],
   "metadata": {
    "collapsed": false,
    "ExecuteTime": {
     "end_time": "2024-02-01T10:52:46.217119600Z",
     "start_time": "2024-02-01T10:52:46.191201300Z"
    }
   },
   "id": "1355a65a604298c9",
   "execution_count": 25
  },
  {
   "cell_type": "code",
   "outputs": [
    {
     "data": {
      "text/plain": "date                        0\nserial_number               0\nmodel                       0\ncapacity_bytes              0\nfailure                     0\nsmart_1_normalized       1534\nsmart_1_raw              1534\nsmart_2_normalized    7457196\nsmart_2_raw           7457196\nsmart_3_normalized       3363\ndtype: int64"
     },
     "execution_count": 26,
     "metadata": {},
     "output_type": "execute_result"
    }
   ],
   "source": [
    "missing_values_count = df.isnull().sum()\n",
    "missing_values_count[0:10]"
   ],
   "metadata": {
    "collapsed": false,
    "ExecuteTime": {
     "end_time": "2024-02-01T10:53:20.873448900Z",
     "start_time": "2024-02-01T10:52:57.985032100Z"
    }
   },
   "id": "e92eecac9a1c7883",
   "execution_count": 26
  },
  {
   "cell_type": "code",
   "outputs": [
    {
     "data": {
      "text/plain": "765053890"
     },
     "execution_count": 27,
     "metadata": {},
     "output_type": "execute_result"
    }
   ],
   "source": [
    "total_missing = missing_values_count.sum()\n",
    "total_missing"
   ],
   "metadata": {
    "collapsed": false,
    "ExecuteTime": {
     "end_time": "2024-02-01T10:53:33.997839300Z",
     "start_time": "2024-02-01T10:53:33.963975600Z"
    }
   },
   "id": "a424b805a16b7c26",
   "execution_count": 27
  },
  {
   "cell_type": "code",
   "outputs": [
    {
     "name": "stdout",
     "output_type": "stream",
     "text": [
      "61.925674264042584% of the data is missing\n"
     ]
    }
   ],
   "source": [
    "percent_missing = total_missing / total_cells * 100\n",
    "print(f'{percent_missing}% of the data is missing')"
   ],
   "metadata": {
    "collapsed": false,
    "ExecuteTime": {
     "end_time": "2024-02-01T10:53:38.353351500Z",
     "start_time": "2024-02-01T10:53:38.329081700Z"
    }
   },
   "id": "6540237e25b97b21",
   "execution_count": 28
  },
  {
   "cell_type": "code",
   "outputs": [],
   "source": [
    "columns_before = df.columns\n",
    "\n",
    "# Remove columns that have all null values\n",
    "df = df.dropna(axis=1, how='all')\n",
    "\n",
    "columns_after = df.columns\n",
    "\n",
    "removed_columns = set(columns_before) - set(columns_after)\n",
    "print(f'Columns removed: {removed_columns}')"
   ],
   "metadata": {
    "collapsed": false
   },
   "id": "126f92ee2fd4fdf6"
  },
  {
   "cell_type": "code",
   "outputs": [
    {
     "name": "stdout",
     "output_type": "stream",
     "text": [
      "57.290538957056455% of the data is missing\n"
     ]
    }
   ],
   "source": [
    "total_cells = np.prod(df.shape)\n",
    "total_missing = df.isnull().sum().sum()\n",
    "percent_missing = total_missing / total_cells * 100\n",
    "print(f'{percent_missing}% of the data is missing')"
   ],
   "metadata": {
    "collapsed": false,
    "ExecuteTime": {
     "end_time": "2024-02-01T12:25:58.406720200Z",
     "start_time": "2024-02-01T12:23:56.560338700Z"
    }
   },
   "id": "4ad6ad5c6c1e6f33",
   "execution_count": 68
  },
  {
   "cell_type": "code",
   "outputs": [],
   "source": [],
   "metadata": {
    "collapsed": false
   },
   "id": "cfec86e137fd4fa6"
  },
  {
   "cell_type": "markdown",
   "source": [
    "# Computing failure rates"
   ],
   "metadata": {
    "collapsed": false
   },
   "id": "c9d4b5047d0f44e9"
  },
  {
   "cell_type": "markdown",
   "source": [
    "### Creating a dataframe that has the number of drive days for each model. Drive days refers to the number of days a hard drive has been running (the number of rows in the main dataframe for that model)."
   ],
   "metadata": {
    "collapsed": false
   },
   "id": "a36461d685b55f5e"
  },
  {
   "cell_type": "markdown",
   "source": [
    "### Written in SQL like this:\n",
    "\n",
    "CREATE TABLE drive_days AS \n",
    "    SELECT model, count(*) AS drive_days \n",
    "    FROM drive_stats \n",
    "    GROUP BY model;"
   ],
   "metadata": {
    "collapsed": false
   },
   "id": "6b2c339f61e8ea42"
  },
  {
   "cell_type": "code",
   "outputs": [
    {
     "data": {
      "text/plain": "                                  model  drive_days\n0                         ST12000NM0007     2955025\n1                           ST4000DM000     1989429\n2                          ST8000NM0055     1294451\n3                  HGST HMS5C4040BLE640     1172824\n4                           ST8000DM002      888741\n5                  HGST HMS5C4040ALE640      313383\n6                  HGST HUH721212ALN604      259749\n7                           ST6000DX000      135832\n8                   TOSHIBA MG07ACA14TA      109404\n9                         ST10000NM0086      108555\n10                 HGST HUH728080ALE600       93598\n11                        ST500LM012 HN       50619\n12                   TOSHIBA MQ01ABF050       46969\n13                  TOSHIBA MQ01ABF050M       32624\n14                         WDC WD60EFRX       30523\n15                       WDC WD5000LPVX       22015\n16                           ST500LM030       14479\n17                 HGST HUH721212ALE600       14040\n18                  TOSHIBA MD04ABA400V       12662\n19                       WDC WD5000LPCX        4920\n20                          ST4000DM005        4848\n21                  TOSHIBA MD04ABA500V        4050\n22                 HGST HDS5C4040ALE630        3117\n23                 HGST HUS726040ALE610        2598\n24                          ST8000DM005        2250\n25                      TOSHIBA HDWF180        1798\n26   Seagate BarraCuda SSD ZA500CM10002        1564\n27                 HGST HUH721010ALE600        1245\n28                          ST6000DM001        1113\n29                       WDC WD5000BPKT         982\n30                      TOSHIBA HDWE160         834\n31              Hitachi HDS5C4040ALE630         626\n32                          DELLBOSS VD         540\n33                          ST8000DM004         273\n34  Seagate BarraCuda SSD ZA2000CM10002         265\n35                       WDC WD1600AAJS         251\n36                          ST6000DM004         180\n37                         WDC WD40EFRX          94\n38                       ST1000LM024 HN          90\n39                 HGST HMS5C4040BLE641          90\n40                       WDC WD2500AAJS          88\n41                           ST320LT007          85\n42                           ST500LM021          82\n43                          ST3160316AS          42\n44                       WDC WD3200BEKX          29\n45              Hitachi HDS724040ALE640          29\n46                        ST250LM004 HN          24\n47                          ST3160318AS          14\n48                       WDC WD3200AAJS           3",
      "text/html": "<div>\n<style scoped>\n    .dataframe tbody tr th:only-of-type {\n        vertical-align: middle;\n    }\n\n    .dataframe tbody tr th {\n        vertical-align: top;\n    }\n\n    .dataframe thead th {\n        text-align: right;\n    }\n</style>\n<table border=\"1\" class=\"dataframe\">\n  <thead>\n    <tr style=\"text-align: right;\">\n      <th></th>\n      <th>model</th>\n      <th>drive_days</th>\n    </tr>\n  </thead>\n  <tbody>\n    <tr>\n      <th>0</th>\n      <td>ST12000NM0007</td>\n      <td>2955025</td>\n    </tr>\n    <tr>\n      <th>1</th>\n      <td>ST4000DM000</td>\n      <td>1989429</td>\n    </tr>\n    <tr>\n      <th>2</th>\n      <td>ST8000NM0055</td>\n      <td>1294451</td>\n    </tr>\n    <tr>\n      <th>3</th>\n      <td>HGST HMS5C4040BLE640</td>\n      <td>1172824</td>\n    </tr>\n    <tr>\n      <th>4</th>\n      <td>ST8000DM002</td>\n      <td>888741</td>\n    </tr>\n    <tr>\n      <th>5</th>\n      <td>HGST HMS5C4040ALE640</td>\n      <td>313383</td>\n    </tr>\n    <tr>\n      <th>6</th>\n      <td>HGST HUH721212ALN604</td>\n      <td>259749</td>\n    </tr>\n    <tr>\n      <th>7</th>\n      <td>ST6000DX000</td>\n      <td>135832</td>\n    </tr>\n    <tr>\n      <th>8</th>\n      <td>TOSHIBA MG07ACA14TA</td>\n      <td>109404</td>\n    </tr>\n    <tr>\n      <th>9</th>\n      <td>ST10000NM0086</td>\n      <td>108555</td>\n    </tr>\n    <tr>\n      <th>10</th>\n      <td>HGST HUH728080ALE600</td>\n      <td>93598</td>\n    </tr>\n    <tr>\n      <th>11</th>\n      <td>ST500LM012 HN</td>\n      <td>50619</td>\n    </tr>\n    <tr>\n      <th>12</th>\n      <td>TOSHIBA MQ01ABF050</td>\n      <td>46969</td>\n    </tr>\n    <tr>\n      <th>13</th>\n      <td>TOSHIBA MQ01ABF050M</td>\n      <td>32624</td>\n    </tr>\n    <tr>\n      <th>14</th>\n      <td>WDC WD60EFRX</td>\n      <td>30523</td>\n    </tr>\n    <tr>\n      <th>15</th>\n      <td>WDC WD5000LPVX</td>\n      <td>22015</td>\n    </tr>\n    <tr>\n      <th>16</th>\n      <td>ST500LM030</td>\n      <td>14479</td>\n    </tr>\n    <tr>\n      <th>17</th>\n      <td>HGST HUH721212ALE600</td>\n      <td>14040</td>\n    </tr>\n    <tr>\n      <th>18</th>\n      <td>TOSHIBA MD04ABA400V</td>\n      <td>12662</td>\n    </tr>\n    <tr>\n      <th>19</th>\n      <td>WDC WD5000LPCX</td>\n      <td>4920</td>\n    </tr>\n    <tr>\n      <th>20</th>\n      <td>ST4000DM005</td>\n      <td>4848</td>\n    </tr>\n    <tr>\n      <th>21</th>\n      <td>TOSHIBA MD04ABA500V</td>\n      <td>4050</td>\n    </tr>\n    <tr>\n      <th>22</th>\n      <td>HGST HDS5C4040ALE630</td>\n      <td>3117</td>\n    </tr>\n    <tr>\n      <th>23</th>\n      <td>HGST HUS726040ALE610</td>\n      <td>2598</td>\n    </tr>\n    <tr>\n      <th>24</th>\n      <td>ST8000DM005</td>\n      <td>2250</td>\n    </tr>\n    <tr>\n      <th>25</th>\n      <td>TOSHIBA HDWF180</td>\n      <td>1798</td>\n    </tr>\n    <tr>\n      <th>26</th>\n      <td>Seagate BarraCuda SSD ZA500CM10002</td>\n      <td>1564</td>\n    </tr>\n    <tr>\n      <th>27</th>\n      <td>HGST HUH721010ALE600</td>\n      <td>1245</td>\n    </tr>\n    <tr>\n      <th>28</th>\n      <td>ST6000DM001</td>\n      <td>1113</td>\n    </tr>\n    <tr>\n      <th>29</th>\n      <td>WDC WD5000BPKT</td>\n      <td>982</td>\n    </tr>\n    <tr>\n      <th>30</th>\n      <td>TOSHIBA HDWE160</td>\n      <td>834</td>\n    </tr>\n    <tr>\n      <th>31</th>\n      <td>Hitachi HDS5C4040ALE630</td>\n      <td>626</td>\n    </tr>\n    <tr>\n      <th>32</th>\n      <td>DELLBOSS VD</td>\n      <td>540</td>\n    </tr>\n    <tr>\n      <th>33</th>\n      <td>ST8000DM004</td>\n      <td>273</td>\n    </tr>\n    <tr>\n      <th>34</th>\n      <td>Seagate BarraCuda SSD ZA2000CM10002</td>\n      <td>265</td>\n    </tr>\n    <tr>\n      <th>35</th>\n      <td>WDC WD1600AAJS</td>\n      <td>251</td>\n    </tr>\n    <tr>\n      <th>36</th>\n      <td>ST6000DM004</td>\n      <td>180</td>\n    </tr>\n    <tr>\n      <th>37</th>\n      <td>WDC WD40EFRX</td>\n      <td>94</td>\n    </tr>\n    <tr>\n      <th>38</th>\n      <td>ST1000LM024 HN</td>\n      <td>90</td>\n    </tr>\n    <tr>\n      <th>39</th>\n      <td>HGST HMS5C4040BLE641</td>\n      <td>90</td>\n    </tr>\n    <tr>\n      <th>40</th>\n      <td>WDC WD2500AAJS</td>\n      <td>88</td>\n    </tr>\n    <tr>\n      <th>41</th>\n      <td>ST320LT007</td>\n      <td>85</td>\n    </tr>\n    <tr>\n      <th>42</th>\n      <td>ST500LM021</td>\n      <td>82</td>\n    </tr>\n    <tr>\n      <th>43</th>\n      <td>ST3160316AS</td>\n      <td>42</td>\n    </tr>\n    <tr>\n      <th>44</th>\n      <td>WDC WD3200BEKX</td>\n      <td>29</td>\n    </tr>\n    <tr>\n      <th>45</th>\n      <td>Hitachi HDS724040ALE640</td>\n      <td>29</td>\n    </tr>\n    <tr>\n      <th>46</th>\n      <td>ST250LM004 HN</td>\n      <td>24</td>\n    </tr>\n    <tr>\n      <th>47</th>\n      <td>ST3160318AS</td>\n      <td>14</td>\n    </tr>\n    <tr>\n      <th>48</th>\n      <td>WDC WD3200AAJS</td>\n      <td>3</td>\n    </tr>\n  </tbody>\n</table>\n</div>"
     },
     "execution_count": 32,
     "metadata": {},
     "output_type": "execute_result"
    }
   ],
   "source": [
    "# Groups the dataframe by the 'model' column and calculates the size (number of rows) for each group\n",
    "# The .size() gets the count of occurrences for each model\n",
    "drive_days = df.groupby('model').size().reset_index(name='drive_days')\n",
    "\n",
    "# Sort the dataframe by 'drive_days' in descending order\n",
    "drive_days = drive_days.sort_values(by='drive_days', ascending=False).reset_index(drop=True)\n",
    "\n",
    "drive_days"
   ],
   "metadata": {
    "collapsed": false,
    "ExecuteTime": {
     "end_time": "2024-02-01T11:03:44.983451800Z",
     "start_time": "2024-02-01T11:03:44.098574Z"
    }
   },
   "id": "ec93275ad87496f9",
   "execution_count": 32
  },
  {
   "cell_type": "code",
   "outputs": [
    {
     "data": {
      "text/plain": "9577046"
     },
     "execution_count": 33,
     "metadata": {},
     "output_type": "execute_result"
    }
   ],
   "source": [
    "# Total drive days across all models (which is also the total rows)\n",
    "total_drive_days = len(df)\n",
    "total_drive_days"
   ],
   "metadata": {
    "collapsed": false,
    "ExecuteTime": {
     "end_time": "2024-02-01T11:10:30.299908900Z",
     "start_time": "2024-02-01T11:10:30.279806300Z"
    }
   },
   "id": "7df54ff7d2fbe126",
   "execution_count": 33
  },
  {
   "cell_type": "markdown",
   "source": [
    "### Creating a table that has the number of failures for each model."
   ],
   "metadata": {
    "collapsed": false
   },
   "id": "94d92d96f89d9fed"
  },
  {
   "cell_type": "markdown",
   "source": [
    "### Written in SQL like this:\n",
    "\n",
    "CREATE TABLE failures AS\n",
    "    SELECT model, count(*) AS failures\n",
    "    FROM drive_stats\n",
    "    WHERE failure = 1\n",
    "    GROUP BY model;"
   ],
   "metadata": {
    "collapsed": false
   },
   "id": "d6e72d03ce2217dd"
  },
  {
   "cell_type": "code",
   "outputs": [
    {
     "data": {
      "text/plain": "                   model  failures\n0          ST12000NM0007       174\n1            ST4000DM000       106\n2           ST8000NM0055        57\n3            ST8000DM002        27\n4     TOSHIBA MQ01ABF050        13\n5   HGST HMS5C4040BLE640        11\n6          ST500LM012 HN         9\n7             ST500LM030         8\n8   HGST HUH721212ALN604         4\n9   HGST HUH728080ALE600         3\n10         ST10000NM0086         3\n11   TOSHIBA MQ01ABF050M         3\n12        WDC WD5000LPVX         2\n13        WDC WD5000LPCX         2\n14  HGST HMS5C4040ALE640         2\n15           ST8000DM004         1\n16           ST6000DX000         1\n17  HGST HUH721212ALE600         1\n18          WDC WD60EFRX         1",
      "text/html": "<div>\n<style scoped>\n    .dataframe tbody tr th:only-of-type {\n        vertical-align: middle;\n    }\n\n    .dataframe tbody tr th {\n        vertical-align: top;\n    }\n\n    .dataframe thead th {\n        text-align: right;\n    }\n</style>\n<table border=\"1\" class=\"dataframe\">\n  <thead>\n    <tr style=\"text-align: right;\">\n      <th></th>\n      <th>model</th>\n      <th>failures</th>\n    </tr>\n  </thead>\n  <tbody>\n    <tr>\n      <th>0</th>\n      <td>ST12000NM0007</td>\n      <td>174</td>\n    </tr>\n    <tr>\n      <th>1</th>\n      <td>ST4000DM000</td>\n      <td>106</td>\n    </tr>\n    <tr>\n      <th>2</th>\n      <td>ST8000NM0055</td>\n      <td>57</td>\n    </tr>\n    <tr>\n      <th>3</th>\n      <td>ST8000DM002</td>\n      <td>27</td>\n    </tr>\n    <tr>\n      <th>4</th>\n      <td>TOSHIBA MQ01ABF050</td>\n      <td>13</td>\n    </tr>\n    <tr>\n      <th>5</th>\n      <td>HGST HMS5C4040BLE640</td>\n      <td>11</td>\n    </tr>\n    <tr>\n      <th>6</th>\n      <td>ST500LM012 HN</td>\n      <td>9</td>\n    </tr>\n    <tr>\n      <th>7</th>\n      <td>ST500LM030</td>\n      <td>8</td>\n    </tr>\n    <tr>\n      <th>8</th>\n      <td>HGST HUH721212ALN604</td>\n      <td>4</td>\n    </tr>\n    <tr>\n      <th>9</th>\n      <td>HGST HUH728080ALE600</td>\n      <td>3</td>\n    </tr>\n    <tr>\n      <th>10</th>\n      <td>ST10000NM0086</td>\n      <td>3</td>\n    </tr>\n    <tr>\n      <th>11</th>\n      <td>TOSHIBA MQ01ABF050M</td>\n      <td>3</td>\n    </tr>\n    <tr>\n      <th>12</th>\n      <td>WDC WD5000LPVX</td>\n      <td>2</td>\n    </tr>\n    <tr>\n      <th>13</th>\n      <td>WDC WD5000LPCX</td>\n      <td>2</td>\n    </tr>\n    <tr>\n      <th>14</th>\n      <td>HGST HMS5C4040ALE640</td>\n      <td>2</td>\n    </tr>\n    <tr>\n      <th>15</th>\n      <td>ST8000DM004</td>\n      <td>1</td>\n    </tr>\n    <tr>\n      <th>16</th>\n      <td>ST6000DX000</td>\n      <td>1</td>\n    </tr>\n    <tr>\n      <th>17</th>\n      <td>HGST HUH721212ALE600</td>\n      <td>1</td>\n    </tr>\n    <tr>\n      <th>18</th>\n      <td>WDC WD60EFRX</td>\n      <td>1</td>\n    </tr>\n  </tbody>\n</table>\n</div>"
     },
     "execution_count": 35,
     "metadata": {},
     "output_type": "execute_result"
    }
   ],
   "source": [
    "failures = df[df['failure'] == 1].groupby('model').size().reset_index(name='failures')\n",
    "failures = failures.sort_values(by='failures', ascending=False).reset_index(drop=True)\n",
    "failures"
   ],
   "metadata": {
    "collapsed": false,
    "ExecuteTime": {
     "end_time": "2024-02-01T11:14:22.445710500Z",
     "start_time": "2024-02-01T11:14:19.641533500Z"
    }
   },
   "id": "c8642a2dc2dc6036",
   "execution_count": 35
  },
  {
   "cell_type": "code",
   "outputs": [
    {
     "name": "stdout",
     "output_type": "stream",
     "text": [
      "Total failures: 428\n",
      "Total unique days: 90\n",
      "Total drive days: 9577046\n"
     ]
    }
   ],
   "source": [
    "# Calculating the total failures\n",
    "total_failures = (df['failure'] == 1).sum()\n",
    "print(f'Total failures: {total_failures}')\n",
    "\n",
    "# Calculating the total unique days\n",
    "total_unique_days = df['date'].nunique()\n",
    "print(f'Total unique days: {total_unique_days}')\n",
    "\n",
    "print(f'Total drive days: {total_drive_days}')"
   ],
   "metadata": {
    "collapsed": false,
    "ExecuteTime": {
     "end_time": "2024-02-01T11:30:50.938655500Z",
     "start_time": "2024-02-01T11:30:50.343866200Z"
    }
   },
   "id": "9a852fd939e3a3df",
   "execution_count": 43
  },
  {
   "cell_type": "markdown",
   "source": [
    "### So we have 428 drive failures in 9,577,046 drive days of operation.\n",
    "### The daily failure rate is the drive failures / drive days.\n",
    "### The annual failure rate would be the daily failure rate * 365 (assuming the rest of the year would have similar results to the first 3 months)"
   ],
   "metadata": {
    "collapsed": false
   },
   "id": "592d2c0f96945e09"
  },
  {
   "cell_type": "code",
   "outputs": [
    {
     "name": "stdout",
     "output_type": "stream",
     "text": [
      "Daily failure rate is 0.004469018943837171%\n",
      "Annual failure rate is 1.6311919145005673%\n"
     ]
    }
   ],
   "source": [
    "daily_failure_rate = (total_failures / total_drive_days) * 100\n",
    "annual_failure_rate = daily_failure_rate * 365\n",
    "print(f'Daily failure rate is {daily_failure_rate}%')\n",
    "print(f'Annual failure rate is {annual_failure_rate}%')"
   ],
   "metadata": {
    "collapsed": false,
    "ExecuteTime": {
     "end_time": "2024-02-01T11:40:34.479537400Z",
     "start_time": "2024-02-01T11:40:34.468926500Z"
    }
   },
   "id": "1413230786f83b2b",
   "execution_count": 44
  },
  {
   "cell_type": "markdown",
   "source": [
    "### Creating a table that has the number of drives for each model as of January 31st 2019"
   ],
   "metadata": {
    "collapsed": false
   },
   "id": "bfa7f2841ddd733b"
  },
  {
   "cell_type": "markdown",
   "source": [
    "### Written in SQL like this:\n",
    "\n",
    "CREATE TABLE model_count AS\n",
    "    SELECT model, count(*) AS count\n",
    "    FROM drive_stats\n",
    "    WHERE date = '2019-01-31'\n",
    "    GROUP BY model;"
   ],
   "metadata": {
    "collapsed": false
   },
   "id": "67fe8a272ed8c922"
  },
  {
   "cell_type": "code",
   "outputs": [
    {
     "data": {
      "text/plain": "                                  model  count\n0                         ST12000NM0007  32245\n1                           ST4000DM000  22854\n2                          ST8000NM0055  14383\n3                  HGST HMS5C4040BLE640  12880\n4                           ST8000DM002   9875\n5                  HGST HMS5C4040ALE640   3653\n6                  HGST HUH721212ALN604   2475\n7                           ST6000DX000   1524\n8                   TOSHIBA MG07ACA14TA   1220\n9                         ST10000NM0086   1207\n10                 HGST HUH728080ALE600   1045\n11                        ST500LM012 HN    579\n12                   TOSHIBA MQ01ABF050    524\n13                         WDC WD60EFRX    382\n14                  TOSHIBA MQ01ABF050M    352\n15                       WDC WD5000LPVX    250\n16                           ST500LM030    153\n17                  TOSHIBA MD04ABA400V    144\n18                          ST4000DM005     56\n19                       WDC WD5000LPCX     55\n20                  TOSHIBA MD04ABA500V     45\n21                 HGST HDS5C4040ALE630     32\n22                 HGST HUS726040ALE610     29\n23                          ST8000DM005     25\n24                      TOSHIBA HDWF180     20\n25   Seagate BarraCuda SSD ZA500CM10002     18\n26                          ST6000DM001     13\n27                 HGST HUH721010ALE600     13\n28                       WDC WD5000BPKT     11\n29                      TOSHIBA HDWE160     10\n30              Hitachi HDS5C4040ALE630      8\n31                          ST8000DM004      3\n32  Seagate BarraCuda SSD ZA2000CM10002      3\n33                          ST6000DM004      2\n34                           ST320LT007      1\n35                 HGST HMS5C4040BLE641      1\n36                       ST1000LM024 HN      1\n37                       WDC WD2500AAJS      1\n38                         WDC WD40EFRX      1",
      "text/html": "<div>\n<style scoped>\n    .dataframe tbody tr th:only-of-type {\n        vertical-align: middle;\n    }\n\n    .dataframe tbody tr th {\n        vertical-align: top;\n    }\n\n    .dataframe thead th {\n        text-align: right;\n    }\n</style>\n<table border=\"1\" class=\"dataframe\">\n  <thead>\n    <tr style=\"text-align: right;\">\n      <th></th>\n      <th>model</th>\n      <th>count</th>\n    </tr>\n  </thead>\n  <tbody>\n    <tr>\n      <th>0</th>\n      <td>ST12000NM0007</td>\n      <td>32245</td>\n    </tr>\n    <tr>\n      <th>1</th>\n      <td>ST4000DM000</td>\n      <td>22854</td>\n    </tr>\n    <tr>\n      <th>2</th>\n      <td>ST8000NM0055</td>\n      <td>14383</td>\n    </tr>\n    <tr>\n      <th>3</th>\n      <td>HGST HMS5C4040BLE640</td>\n      <td>12880</td>\n    </tr>\n    <tr>\n      <th>4</th>\n      <td>ST8000DM002</td>\n      <td>9875</td>\n    </tr>\n    <tr>\n      <th>5</th>\n      <td>HGST HMS5C4040ALE640</td>\n      <td>3653</td>\n    </tr>\n    <tr>\n      <th>6</th>\n      <td>HGST HUH721212ALN604</td>\n      <td>2475</td>\n    </tr>\n    <tr>\n      <th>7</th>\n      <td>ST6000DX000</td>\n      <td>1524</td>\n    </tr>\n    <tr>\n      <th>8</th>\n      <td>TOSHIBA MG07ACA14TA</td>\n      <td>1220</td>\n    </tr>\n    <tr>\n      <th>9</th>\n      <td>ST10000NM0086</td>\n      <td>1207</td>\n    </tr>\n    <tr>\n      <th>10</th>\n      <td>HGST HUH728080ALE600</td>\n      <td>1045</td>\n    </tr>\n    <tr>\n      <th>11</th>\n      <td>ST500LM012 HN</td>\n      <td>579</td>\n    </tr>\n    <tr>\n      <th>12</th>\n      <td>TOSHIBA MQ01ABF050</td>\n      <td>524</td>\n    </tr>\n    <tr>\n      <th>13</th>\n      <td>WDC WD60EFRX</td>\n      <td>382</td>\n    </tr>\n    <tr>\n      <th>14</th>\n      <td>TOSHIBA MQ01ABF050M</td>\n      <td>352</td>\n    </tr>\n    <tr>\n      <th>15</th>\n      <td>WDC WD5000LPVX</td>\n      <td>250</td>\n    </tr>\n    <tr>\n      <th>16</th>\n      <td>ST500LM030</td>\n      <td>153</td>\n    </tr>\n    <tr>\n      <th>17</th>\n      <td>TOSHIBA MD04ABA400V</td>\n      <td>144</td>\n    </tr>\n    <tr>\n      <th>18</th>\n      <td>ST4000DM005</td>\n      <td>56</td>\n    </tr>\n    <tr>\n      <th>19</th>\n      <td>WDC WD5000LPCX</td>\n      <td>55</td>\n    </tr>\n    <tr>\n      <th>20</th>\n      <td>TOSHIBA MD04ABA500V</td>\n      <td>45</td>\n    </tr>\n    <tr>\n      <th>21</th>\n      <td>HGST HDS5C4040ALE630</td>\n      <td>32</td>\n    </tr>\n    <tr>\n      <th>22</th>\n      <td>HGST HUS726040ALE610</td>\n      <td>29</td>\n    </tr>\n    <tr>\n      <th>23</th>\n      <td>ST8000DM005</td>\n      <td>25</td>\n    </tr>\n    <tr>\n      <th>24</th>\n      <td>TOSHIBA HDWF180</td>\n      <td>20</td>\n    </tr>\n    <tr>\n      <th>25</th>\n      <td>Seagate BarraCuda SSD ZA500CM10002</td>\n      <td>18</td>\n    </tr>\n    <tr>\n      <th>26</th>\n      <td>ST6000DM001</td>\n      <td>13</td>\n    </tr>\n    <tr>\n      <th>27</th>\n      <td>HGST HUH721010ALE600</td>\n      <td>13</td>\n    </tr>\n    <tr>\n      <th>28</th>\n      <td>WDC WD5000BPKT</td>\n      <td>11</td>\n    </tr>\n    <tr>\n      <th>29</th>\n      <td>TOSHIBA HDWE160</td>\n      <td>10</td>\n    </tr>\n    <tr>\n      <th>30</th>\n      <td>Hitachi HDS5C4040ALE630</td>\n      <td>8</td>\n    </tr>\n    <tr>\n      <th>31</th>\n      <td>ST8000DM004</td>\n      <td>3</td>\n    </tr>\n    <tr>\n      <th>32</th>\n      <td>Seagate BarraCuda SSD ZA2000CM10002</td>\n      <td>3</td>\n    </tr>\n    <tr>\n      <th>33</th>\n      <td>ST6000DM004</td>\n      <td>2</td>\n    </tr>\n    <tr>\n      <th>34</th>\n      <td>ST320LT007</td>\n      <td>1</td>\n    </tr>\n    <tr>\n      <th>35</th>\n      <td>HGST HMS5C4040BLE641</td>\n      <td>1</td>\n    </tr>\n    <tr>\n      <th>36</th>\n      <td>ST1000LM024 HN</td>\n      <td>1</td>\n    </tr>\n    <tr>\n      <th>37</th>\n      <td>WDC WD2500AAJS</td>\n      <td>1</td>\n    </tr>\n    <tr>\n      <th>38</th>\n      <td>WDC WD40EFRX</td>\n      <td>1</td>\n    </tr>\n  </tbody>\n</table>\n</div>"
     },
     "execution_count": 51,
     "metadata": {},
     "output_type": "execute_result"
    }
   ],
   "source": [
    "# Convert 'date' column to datetime type (if not already)\n",
    "df['date'] = pd.to_datetime(df['date'])\n",
    "\n",
    "# Filter rows for specific date and calculate the number of drives for each model\n",
    "model_count = df[df['date'] == '2019-01-31'].groupby('model').size().reset_index(name='count')\n",
    "\n",
    "# Sort the dataframe by 'count' in descending order\n",
    "model_count = model_count.sort_values(by='count', ascending=False).reset_index(drop=True)\n",
    "model_count"
   ],
   "metadata": {
    "collapsed": false,
    "ExecuteTime": {
     "end_time": "2024-02-01T11:54:54.549709500Z",
     "start_time": "2024-02-01T11:54:54.070745500Z"
    }
   },
   "id": "8037fa1190da248e",
   "execution_count": 51
  },
  {
   "cell_type": "markdown",
   "source": [
    "### On a specific day, (e.g. 1st Jan, feb, mar) how many hard drives are there for each model"
   ],
   "metadata": {
    "collapsed": false
   },
   "id": "27b98f147c45f5ba"
  },
  {
   "cell_type": "code",
   "outputs": [
    {
     "data": {
      "text/plain": "                                  model  1st Jan  1st Feb  1st Mar\n0                         ST12000NM0007    31147  32246.0  33505.0\n1                           ST4000DM000    23236  22853.0  21674.0\n2                  HGST HMS5C4040BLE640    14550  12880.0  12774.0\n3                          ST8000NM0055    14383  14383.0  14383.0\n4                           ST8000DM002     9874   9875.0   9875.0\n5                  HGST HMS5C4040ALE640     4678   3654.0   2837.0\n6                           ST6000DX000     1524   1524.0   1524.0\n7                  HGST HUH721212ALN604     1278   2474.0   3675.0\n8                         ST10000NM0086     1210   1207.0   1205.0\n9                   TOSHIBA MG07ACA14TA     1204   1160.0   1220.0\n10                 HGST HUH728080ALE600     1045   1045.0   1045.0\n11                        ST500LM012 HN      604    579.0    544.0\n12                   TOSHIBA MQ01ABF050      528    524.0    521.0\n13                         WDC WD60EFRX      382    382.0    338.0\n14                  TOSHIBA MQ01ABF050M      354    352.0    378.0\n15                       WDC WD5000LPVX      272    250.0    235.0\n16                  TOSHIBA MD04ABA400V      145    144.0    144.0\n17                           ST500LM030      111    152.0    174.0\n18                          ST4000DM005       58     56.0     53.0\n19                       WDC WD5000LPCX       56     55.0     54.0\n20                 HGST HDS5C4040ALE630       50     32.0     28.0\n21                  TOSHIBA MD04ABA500V       45     45.0     45.0\n22                 HGST HUS726040ALE610       28     29.0     29.0\n23                          ST8000DM005       25     25.0     25.0\n24                      TOSHIBA HDWF180       20     20.0     20.0\n25                       WDC WD1600AAJS       19      0.0      0.0\n26              Hitachi HDS5C4040ALE630       14      8.0      2.0\n27                          ST6000DM001       13     13.0     13.0\n28   Seagate BarraCuda SSD ZA500CM10002       13     18.0     18.0\n29                       WDC WD5000BPKT       11     11.0     11.0\n30                 HGST HUH721010ALE600       10     13.0     15.0\n31                      TOSHIBA HDWE160       10     10.0      9.0\n32                          ST8000DM004        4      3.0      3.0\n33                          ST3160316AS        3      0.0      0.0\n34                          ST6000DM004        2      2.0      2.0\n35                         WDC WD40EFRX        2      1.0      1.0\n36                          ST3160318AS        1      0.0      0.0\n37  Seagate BarraCuda SSD ZA2000CM10002        1      3.0      3.0\n38                 HGST HMS5C4040BLE641        1      1.0      1.0\n39              Hitachi HDS724040ALE640        1      0.0      0.0\n40                       WDC WD2500AAJS        1      1.0      1.0\n41                       WDC WD3200AAJS        1      0.0      0.0\n42                       WDC WD3200BEKX        1      0.0      0.0\n43                       ST1000LM024 HN        1      1.0      1.0\n44                        ST250LM004 HN        1      0.0      0.0\n45                           ST320LT007        1      1.0      1.0",
      "text/html": "<div>\n<style scoped>\n    .dataframe tbody tr th:only-of-type {\n        vertical-align: middle;\n    }\n\n    .dataframe tbody tr th {\n        vertical-align: top;\n    }\n\n    .dataframe thead th {\n        text-align: right;\n    }\n</style>\n<table border=\"1\" class=\"dataframe\">\n  <thead>\n    <tr style=\"text-align: right;\">\n      <th></th>\n      <th>model</th>\n      <th>1st Jan</th>\n      <th>1st Feb</th>\n      <th>1st Mar</th>\n    </tr>\n  </thead>\n  <tbody>\n    <tr>\n      <th>0</th>\n      <td>ST12000NM0007</td>\n      <td>31147</td>\n      <td>32246.0</td>\n      <td>33505.0</td>\n    </tr>\n    <tr>\n      <th>1</th>\n      <td>ST4000DM000</td>\n      <td>23236</td>\n      <td>22853.0</td>\n      <td>21674.0</td>\n    </tr>\n    <tr>\n      <th>2</th>\n      <td>HGST HMS5C4040BLE640</td>\n      <td>14550</td>\n      <td>12880.0</td>\n      <td>12774.0</td>\n    </tr>\n    <tr>\n      <th>3</th>\n      <td>ST8000NM0055</td>\n      <td>14383</td>\n      <td>14383.0</td>\n      <td>14383.0</td>\n    </tr>\n    <tr>\n      <th>4</th>\n      <td>ST8000DM002</td>\n      <td>9874</td>\n      <td>9875.0</td>\n      <td>9875.0</td>\n    </tr>\n    <tr>\n      <th>5</th>\n      <td>HGST HMS5C4040ALE640</td>\n      <td>4678</td>\n      <td>3654.0</td>\n      <td>2837.0</td>\n    </tr>\n    <tr>\n      <th>6</th>\n      <td>ST6000DX000</td>\n      <td>1524</td>\n      <td>1524.0</td>\n      <td>1524.0</td>\n    </tr>\n    <tr>\n      <th>7</th>\n      <td>HGST HUH721212ALN604</td>\n      <td>1278</td>\n      <td>2474.0</td>\n      <td>3675.0</td>\n    </tr>\n    <tr>\n      <th>8</th>\n      <td>ST10000NM0086</td>\n      <td>1210</td>\n      <td>1207.0</td>\n      <td>1205.0</td>\n    </tr>\n    <tr>\n      <th>9</th>\n      <td>TOSHIBA MG07ACA14TA</td>\n      <td>1204</td>\n      <td>1160.0</td>\n      <td>1220.0</td>\n    </tr>\n    <tr>\n      <th>10</th>\n      <td>HGST HUH728080ALE600</td>\n      <td>1045</td>\n      <td>1045.0</td>\n      <td>1045.0</td>\n    </tr>\n    <tr>\n      <th>11</th>\n      <td>ST500LM012 HN</td>\n      <td>604</td>\n      <td>579.0</td>\n      <td>544.0</td>\n    </tr>\n    <tr>\n      <th>12</th>\n      <td>TOSHIBA MQ01ABF050</td>\n      <td>528</td>\n      <td>524.0</td>\n      <td>521.0</td>\n    </tr>\n    <tr>\n      <th>13</th>\n      <td>WDC WD60EFRX</td>\n      <td>382</td>\n      <td>382.0</td>\n      <td>338.0</td>\n    </tr>\n    <tr>\n      <th>14</th>\n      <td>TOSHIBA MQ01ABF050M</td>\n      <td>354</td>\n      <td>352.0</td>\n      <td>378.0</td>\n    </tr>\n    <tr>\n      <th>15</th>\n      <td>WDC WD5000LPVX</td>\n      <td>272</td>\n      <td>250.0</td>\n      <td>235.0</td>\n    </tr>\n    <tr>\n      <th>16</th>\n      <td>TOSHIBA MD04ABA400V</td>\n      <td>145</td>\n      <td>144.0</td>\n      <td>144.0</td>\n    </tr>\n    <tr>\n      <th>17</th>\n      <td>ST500LM030</td>\n      <td>111</td>\n      <td>152.0</td>\n      <td>174.0</td>\n    </tr>\n    <tr>\n      <th>18</th>\n      <td>ST4000DM005</td>\n      <td>58</td>\n      <td>56.0</td>\n      <td>53.0</td>\n    </tr>\n    <tr>\n      <th>19</th>\n      <td>WDC WD5000LPCX</td>\n      <td>56</td>\n      <td>55.0</td>\n      <td>54.0</td>\n    </tr>\n    <tr>\n      <th>20</th>\n      <td>HGST HDS5C4040ALE630</td>\n      <td>50</td>\n      <td>32.0</td>\n      <td>28.0</td>\n    </tr>\n    <tr>\n      <th>21</th>\n      <td>TOSHIBA MD04ABA500V</td>\n      <td>45</td>\n      <td>45.0</td>\n      <td>45.0</td>\n    </tr>\n    <tr>\n      <th>22</th>\n      <td>HGST HUS726040ALE610</td>\n      <td>28</td>\n      <td>29.0</td>\n      <td>29.0</td>\n    </tr>\n    <tr>\n      <th>23</th>\n      <td>ST8000DM005</td>\n      <td>25</td>\n      <td>25.0</td>\n      <td>25.0</td>\n    </tr>\n    <tr>\n      <th>24</th>\n      <td>TOSHIBA HDWF180</td>\n      <td>20</td>\n      <td>20.0</td>\n      <td>20.0</td>\n    </tr>\n    <tr>\n      <th>25</th>\n      <td>WDC WD1600AAJS</td>\n      <td>19</td>\n      <td>0.0</td>\n      <td>0.0</td>\n    </tr>\n    <tr>\n      <th>26</th>\n      <td>Hitachi HDS5C4040ALE630</td>\n      <td>14</td>\n      <td>8.0</td>\n      <td>2.0</td>\n    </tr>\n    <tr>\n      <th>27</th>\n      <td>ST6000DM001</td>\n      <td>13</td>\n      <td>13.0</td>\n      <td>13.0</td>\n    </tr>\n    <tr>\n      <th>28</th>\n      <td>Seagate BarraCuda SSD ZA500CM10002</td>\n      <td>13</td>\n      <td>18.0</td>\n      <td>18.0</td>\n    </tr>\n    <tr>\n      <th>29</th>\n      <td>WDC WD5000BPKT</td>\n      <td>11</td>\n      <td>11.0</td>\n      <td>11.0</td>\n    </tr>\n    <tr>\n      <th>30</th>\n      <td>HGST HUH721010ALE600</td>\n      <td>10</td>\n      <td>13.0</td>\n      <td>15.0</td>\n    </tr>\n    <tr>\n      <th>31</th>\n      <td>TOSHIBA HDWE160</td>\n      <td>10</td>\n      <td>10.0</td>\n      <td>9.0</td>\n    </tr>\n    <tr>\n      <th>32</th>\n      <td>ST8000DM004</td>\n      <td>4</td>\n      <td>3.0</td>\n      <td>3.0</td>\n    </tr>\n    <tr>\n      <th>33</th>\n      <td>ST3160316AS</td>\n      <td>3</td>\n      <td>0.0</td>\n      <td>0.0</td>\n    </tr>\n    <tr>\n      <th>34</th>\n      <td>ST6000DM004</td>\n      <td>2</td>\n      <td>2.0</td>\n      <td>2.0</td>\n    </tr>\n    <tr>\n      <th>35</th>\n      <td>WDC WD40EFRX</td>\n      <td>2</td>\n      <td>1.0</td>\n      <td>1.0</td>\n    </tr>\n    <tr>\n      <th>36</th>\n      <td>ST3160318AS</td>\n      <td>1</td>\n      <td>0.0</td>\n      <td>0.0</td>\n    </tr>\n    <tr>\n      <th>37</th>\n      <td>Seagate BarraCuda SSD ZA2000CM10002</td>\n      <td>1</td>\n      <td>3.0</td>\n      <td>3.0</td>\n    </tr>\n    <tr>\n      <th>38</th>\n      <td>HGST HMS5C4040BLE641</td>\n      <td>1</td>\n      <td>1.0</td>\n      <td>1.0</td>\n    </tr>\n    <tr>\n      <th>39</th>\n      <td>Hitachi HDS724040ALE640</td>\n      <td>1</td>\n      <td>0.0</td>\n      <td>0.0</td>\n    </tr>\n    <tr>\n      <th>40</th>\n      <td>WDC WD2500AAJS</td>\n      <td>1</td>\n      <td>1.0</td>\n      <td>1.0</td>\n    </tr>\n    <tr>\n      <th>41</th>\n      <td>WDC WD3200AAJS</td>\n      <td>1</td>\n      <td>0.0</td>\n      <td>0.0</td>\n    </tr>\n    <tr>\n      <th>42</th>\n      <td>WDC WD3200BEKX</td>\n      <td>1</td>\n      <td>0.0</td>\n      <td>0.0</td>\n    </tr>\n    <tr>\n      <th>43</th>\n      <td>ST1000LM024 HN</td>\n      <td>1</td>\n      <td>1.0</td>\n      <td>1.0</td>\n    </tr>\n    <tr>\n      <th>44</th>\n      <td>ST250LM004 HN</td>\n      <td>1</td>\n      <td>0.0</td>\n      <td>0.0</td>\n    </tr>\n    <tr>\n      <th>45</th>\n      <td>ST320LT007</td>\n      <td>1</td>\n      <td>1.0</td>\n      <td>1.0</td>\n    </tr>\n  </tbody>\n</table>\n</div>"
     },
     "execution_count": 47,
     "metadata": {},
     "output_type": "execute_result"
    }
   ],
   "source": [
    "# model_count_jan = df[df['date'] == '2019-01-01'].groupby('model').size().reset_index(name='1st Jan')\n",
    "# model_count_feb = df[df['date'] == '2019-02-01'].groupby('model').size().reset_index(name='1st Feb')\n",
    "# model_count_mar = df[df['date'] == '2019-03-01'].groupby('model').size().reset_index(name='1st Mar')\n",
    "# \n",
    "# # Merge the DataFrames on the 'model' column\n",
    "# model_count = pd.merge(model_count_jan, model_count_feb, on='model', how='outer')\n",
    "# model_count = pd.merge(model_count, model_count_mar, on='model', how='outer')\n",
    "# \n",
    "# # Fill NaN values with 0 (models that didn't have data for a specific month)\n",
    "# model_count = model_count.fillna(0)\n",
    "# \n",
    "# # Sort the dataframe by '1st Jan' in descending order\n",
    "# model_count = model_count.sort_values(by='1st Jan', ascending=False).reset_index(drop=True)\n",
    "# \n",
    "# model_count"
   ],
   "metadata": {
    "collapsed": false,
    "ExecuteTime": {
     "end_time": "2024-02-01T11:48:29.307705400Z",
     "start_time": "2024-02-01T11:48:28.350681700Z"
    }
   },
   "id": "73877d4ef3fb998c",
   "execution_count": 47
  },
  {
   "cell_type": "markdown",
   "source": [
    "### Join the tables together and compute the annual failure rate\n",
    "### drive_years = drive_days / 365\n",
    "### Annual failure rate = (number of failures / number of drive years) * 100"
   ],
   "metadata": {
    "collapsed": false
   },
   "id": "43aba4454f4448f"
  },
  {
   "cell_type": "markdown",
   "source": [
    "### Written in SQL like this:\n",
    "\n",
    "CREATE TABLE failure_rates AS\n",
    "    SELECT drive_days.model AS model,\n",
    "           drive_days.drive_days AS drive_days,\n",
    "           failures.failures AS failures, \n",
    "           100.0 * (1.0 * failures) / (drive_days / 365.0) AS annual_failure_rate\n",
    "    FROM drive_days, failures, model_count\n",
    "    WHERE drive_days.model = failures.model\n",
    "      AND model_count.model = failures.model\n",
    "    ORDER BY model;"
   ],
   "metadata": {
    "collapsed": false
   },
   "id": "def8123ad9a784d5"
  },
  {
   "cell_type": "code",
   "outputs": [
    {
     "data": {
      "text/plain": "                                  model  drive_days\n0                         ST12000NM0007     2955025\n1                           ST4000DM000     1989429\n2                          ST8000NM0055     1294451\n3                  HGST HMS5C4040BLE640     1172824\n4                           ST8000DM002      888741\n5                  HGST HMS5C4040ALE640      313383\n6                  HGST HUH721212ALN604      259749\n7                           ST6000DX000      135832\n8                   TOSHIBA MG07ACA14TA      109404\n9                         ST10000NM0086      108555\n10                 HGST HUH728080ALE600       93598\n11                        ST500LM012 HN       50619\n12                   TOSHIBA MQ01ABF050       46969\n13                  TOSHIBA MQ01ABF050M       32624\n14                         WDC WD60EFRX       30523\n15                       WDC WD5000LPVX       22015\n16                           ST500LM030       14479\n17                 HGST HUH721212ALE600       14040\n18                  TOSHIBA MD04ABA400V       12662\n19                       WDC WD5000LPCX        4920\n20                          ST4000DM005        4848\n21                  TOSHIBA MD04ABA500V        4050\n22                 HGST HDS5C4040ALE630        3117\n23                 HGST HUS726040ALE610        2598\n24                          ST8000DM005        2250\n25                      TOSHIBA HDWF180        1798\n26   Seagate BarraCuda SSD ZA500CM10002        1564\n27                 HGST HUH721010ALE600        1245\n28                          ST6000DM001        1113\n29                       WDC WD5000BPKT         982\n30                      TOSHIBA HDWE160         834\n31              Hitachi HDS5C4040ALE630         626\n32                          DELLBOSS VD         540\n33                          ST8000DM004         273\n34  Seagate BarraCuda SSD ZA2000CM10002         265\n35                       WDC WD1600AAJS         251\n36                          ST6000DM004         180\n37                         WDC WD40EFRX          94\n38                       ST1000LM024 HN          90\n39                 HGST HMS5C4040BLE641          90\n40                       WDC WD2500AAJS          88\n41                           ST320LT007          85\n42                           ST500LM021          82\n43                          ST3160316AS          42\n44                       WDC WD3200BEKX          29\n45              Hitachi HDS724040ALE640          29\n46                        ST250LM004 HN          24\n47                          ST3160318AS          14\n48                       WDC WD3200AAJS           3",
      "text/html": "<div>\n<style scoped>\n    .dataframe tbody tr th:only-of-type {\n        vertical-align: middle;\n    }\n\n    .dataframe tbody tr th {\n        vertical-align: top;\n    }\n\n    .dataframe thead th {\n        text-align: right;\n    }\n</style>\n<table border=\"1\" class=\"dataframe\">\n  <thead>\n    <tr style=\"text-align: right;\">\n      <th></th>\n      <th>model</th>\n      <th>drive_days</th>\n    </tr>\n  </thead>\n  <tbody>\n    <tr>\n      <th>0</th>\n      <td>ST12000NM0007</td>\n      <td>2955025</td>\n    </tr>\n    <tr>\n      <th>1</th>\n      <td>ST4000DM000</td>\n      <td>1989429</td>\n    </tr>\n    <tr>\n      <th>2</th>\n      <td>ST8000NM0055</td>\n      <td>1294451</td>\n    </tr>\n    <tr>\n      <th>3</th>\n      <td>HGST HMS5C4040BLE640</td>\n      <td>1172824</td>\n    </tr>\n    <tr>\n      <th>4</th>\n      <td>ST8000DM002</td>\n      <td>888741</td>\n    </tr>\n    <tr>\n      <th>5</th>\n      <td>HGST HMS5C4040ALE640</td>\n      <td>313383</td>\n    </tr>\n    <tr>\n      <th>6</th>\n      <td>HGST HUH721212ALN604</td>\n      <td>259749</td>\n    </tr>\n    <tr>\n      <th>7</th>\n      <td>ST6000DX000</td>\n      <td>135832</td>\n    </tr>\n    <tr>\n      <th>8</th>\n      <td>TOSHIBA MG07ACA14TA</td>\n      <td>109404</td>\n    </tr>\n    <tr>\n      <th>9</th>\n      <td>ST10000NM0086</td>\n      <td>108555</td>\n    </tr>\n    <tr>\n      <th>10</th>\n      <td>HGST HUH728080ALE600</td>\n      <td>93598</td>\n    </tr>\n    <tr>\n      <th>11</th>\n      <td>ST500LM012 HN</td>\n      <td>50619</td>\n    </tr>\n    <tr>\n      <th>12</th>\n      <td>TOSHIBA MQ01ABF050</td>\n      <td>46969</td>\n    </tr>\n    <tr>\n      <th>13</th>\n      <td>TOSHIBA MQ01ABF050M</td>\n      <td>32624</td>\n    </tr>\n    <tr>\n      <th>14</th>\n      <td>WDC WD60EFRX</td>\n      <td>30523</td>\n    </tr>\n    <tr>\n      <th>15</th>\n      <td>WDC WD5000LPVX</td>\n      <td>22015</td>\n    </tr>\n    <tr>\n      <th>16</th>\n      <td>ST500LM030</td>\n      <td>14479</td>\n    </tr>\n    <tr>\n      <th>17</th>\n      <td>HGST HUH721212ALE600</td>\n      <td>14040</td>\n    </tr>\n    <tr>\n      <th>18</th>\n      <td>TOSHIBA MD04ABA400V</td>\n      <td>12662</td>\n    </tr>\n    <tr>\n      <th>19</th>\n      <td>WDC WD5000LPCX</td>\n      <td>4920</td>\n    </tr>\n    <tr>\n      <th>20</th>\n      <td>ST4000DM005</td>\n      <td>4848</td>\n    </tr>\n    <tr>\n      <th>21</th>\n      <td>TOSHIBA MD04ABA500V</td>\n      <td>4050</td>\n    </tr>\n    <tr>\n      <th>22</th>\n      <td>HGST HDS5C4040ALE630</td>\n      <td>3117</td>\n    </tr>\n    <tr>\n      <th>23</th>\n      <td>HGST HUS726040ALE610</td>\n      <td>2598</td>\n    </tr>\n    <tr>\n      <th>24</th>\n      <td>ST8000DM005</td>\n      <td>2250</td>\n    </tr>\n    <tr>\n      <th>25</th>\n      <td>TOSHIBA HDWF180</td>\n      <td>1798</td>\n    </tr>\n    <tr>\n      <th>26</th>\n      <td>Seagate BarraCuda SSD ZA500CM10002</td>\n      <td>1564</td>\n    </tr>\n    <tr>\n      <th>27</th>\n      <td>HGST HUH721010ALE600</td>\n      <td>1245</td>\n    </tr>\n    <tr>\n      <th>28</th>\n      <td>ST6000DM001</td>\n      <td>1113</td>\n    </tr>\n    <tr>\n      <th>29</th>\n      <td>WDC WD5000BPKT</td>\n      <td>982</td>\n    </tr>\n    <tr>\n      <th>30</th>\n      <td>TOSHIBA HDWE160</td>\n      <td>834</td>\n    </tr>\n    <tr>\n      <th>31</th>\n      <td>Hitachi HDS5C4040ALE630</td>\n      <td>626</td>\n    </tr>\n    <tr>\n      <th>32</th>\n      <td>DELLBOSS VD</td>\n      <td>540</td>\n    </tr>\n    <tr>\n      <th>33</th>\n      <td>ST8000DM004</td>\n      <td>273</td>\n    </tr>\n    <tr>\n      <th>34</th>\n      <td>Seagate BarraCuda SSD ZA2000CM10002</td>\n      <td>265</td>\n    </tr>\n    <tr>\n      <th>35</th>\n      <td>WDC WD1600AAJS</td>\n      <td>251</td>\n    </tr>\n    <tr>\n      <th>36</th>\n      <td>ST6000DM004</td>\n      <td>180</td>\n    </tr>\n    <tr>\n      <th>37</th>\n      <td>WDC WD40EFRX</td>\n      <td>94</td>\n    </tr>\n    <tr>\n      <th>38</th>\n      <td>ST1000LM024 HN</td>\n      <td>90</td>\n    </tr>\n    <tr>\n      <th>39</th>\n      <td>HGST HMS5C4040BLE641</td>\n      <td>90</td>\n    </tr>\n    <tr>\n      <th>40</th>\n      <td>WDC WD2500AAJS</td>\n      <td>88</td>\n    </tr>\n    <tr>\n      <th>41</th>\n      <td>ST320LT007</td>\n      <td>85</td>\n    </tr>\n    <tr>\n      <th>42</th>\n      <td>ST500LM021</td>\n      <td>82</td>\n    </tr>\n    <tr>\n      <th>43</th>\n      <td>ST3160316AS</td>\n      <td>42</td>\n    </tr>\n    <tr>\n      <th>44</th>\n      <td>WDC WD3200BEKX</td>\n      <td>29</td>\n    </tr>\n    <tr>\n      <th>45</th>\n      <td>Hitachi HDS724040ALE640</td>\n      <td>29</td>\n    </tr>\n    <tr>\n      <th>46</th>\n      <td>ST250LM004 HN</td>\n      <td>24</td>\n    </tr>\n    <tr>\n      <th>47</th>\n      <td>ST3160318AS</td>\n      <td>14</td>\n    </tr>\n    <tr>\n      <th>48</th>\n      <td>WDC WD3200AAJS</td>\n      <td>3</td>\n    </tr>\n  </tbody>\n</table>\n</div>"
     },
     "execution_count": 48,
     "metadata": {},
     "output_type": "execute_result"
    }
   ],
   "source": [
    "drive_days"
   ],
   "metadata": {
    "collapsed": false,
    "ExecuteTime": {
     "end_time": "2024-02-01T11:53:00.688048100Z",
     "start_time": "2024-02-01T11:53:00.662741600Z"
    }
   },
   "id": "13a02924dcaa5164",
   "execution_count": 48
  },
  {
   "cell_type": "code",
   "outputs": [
    {
     "data": {
      "text/plain": "                   model  failures\n0          ST12000NM0007       174\n1            ST4000DM000       106\n2           ST8000NM0055        57\n3            ST8000DM002        27\n4     TOSHIBA MQ01ABF050        13\n5   HGST HMS5C4040BLE640        11\n6          ST500LM012 HN         9\n7             ST500LM030         8\n8   HGST HUH721212ALN604         4\n9   HGST HUH728080ALE600         3\n10         ST10000NM0086         3\n11   TOSHIBA MQ01ABF050M         3\n12        WDC WD5000LPVX         2\n13        WDC WD5000LPCX         2\n14  HGST HMS5C4040ALE640         2\n15           ST8000DM004         1\n16           ST6000DX000         1\n17  HGST HUH721212ALE600         1\n18          WDC WD60EFRX         1",
      "text/html": "<div>\n<style scoped>\n    .dataframe tbody tr th:only-of-type {\n        vertical-align: middle;\n    }\n\n    .dataframe tbody tr th {\n        vertical-align: top;\n    }\n\n    .dataframe thead th {\n        text-align: right;\n    }\n</style>\n<table border=\"1\" class=\"dataframe\">\n  <thead>\n    <tr style=\"text-align: right;\">\n      <th></th>\n      <th>model</th>\n      <th>failures</th>\n    </tr>\n  </thead>\n  <tbody>\n    <tr>\n      <th>0</th>\n      <td>ST12000NM0007</td>\n      <td>174</td>\n    </tr>\n    <tr>\n      <th>1</th>\n      <td>ST4000DM000</td>\n      <td>106</td>\n    </tr>\n    <tr>\n      <th>2</th>\n      <td>ST8000NM0055</td>\n      <td>57</td>\n    </tr>\n    <tr>\n      <th>3</th>\n      <td>ST8000DM002</td>\n      <td>27</td>\n    </tr>\n    <tr>\n      <th>4</th>\n      <td>TOSHIBA MQ01ABF050</td>\n      <td>13</td>\n    </tr>\n    <tr>\n      <th>5</th>\n      <td>HGST HMS5C4040BLE640</td>\n      <td>11</td>\n    </tr>\n    <tr>\n      <th>6</th>\n      <td>ST500LM012 HN</td>\n      <td>9</td>\n    </tr>\n    <tr>\n      <th>7</th>\n      <td>ST500LM030</td>\n      <td>8</td>\n    </tr>\n    <tr>\n      <th>8</th>\n      <td>HGST HUH721212ALN604</td>\n      <td>4</td>\n    </tr>\n    <tr>\n      <th>9</th>\n      <td>HGST HUH728080ALE600</td>\n      <td>3</td>\n    </tr>\n    <tr>\n      <th>10</th>\n      <td>ST10000NM0086</td>\n      <td>3</td>\n    </tr>\n    <tr>\n      <th>11</th>\n      <td>TOSHIBA MQ01ABF050M</td>\n      <td>3</td>\n    </tr>\n    <tr>\n      <th>12</th>\n      <td>WDC WD5000LPVX</td>\n      <td>2</td>\n    </tr>\n    <tr>\n      <th>13</th>\n      <td>WDC WD5000LPCX</td>\n      <td>2</td>\n    </tr>\n    <tr>\n      <th>14</th>\n      <td>HGST HMS5C4040ALE640</td>\n      <td>2</td>\n    </tr>\n    <tr>\n      <th>15</th>\n      <td>ST8000DM004</td>\n      <td>1</td>\n    </tr>\n    <tr>\n      <th>16</th>\n      <td>ST6000DX000</td>\n      <td>1</td>\n    </tr>\n    <tr>\n      <th>17</th>\n      <td>HGST HUH721212ALE600</td>\n      <td>1</td>\n    </tr>\n    <tr>\n      <th>18</th>\n      <td>WDC WD60EFRX</td>\n      <td>1</td>\n    </tr>\n  </tbody>\n</table>\n</div>"
     },
     "execution_count": 49,
     "metadata": {},
     "output_type": "execute_result"
    }
   ],
   "source": [
    "failures"
   ],
   "metadata": {
    "collapsed": false,
    "ExecuteTime": {
     "end_time": "2024-02-01T11:53:04.786141400Z",
     "start_time": "2024-02-01T11:53:04.775525200Z"
    }
   },
   "id": "976657c71e580de3",
   "execution_count": 49
  },
  {
   "cell_type": "code",
   "outputs": [
    {
     "data": {
      "text/plain": "                                  model  count\n0                         ST12000NM0007  32245\n1                           ST4000DM000  22854\n2                          ST8000NM0055  14383\n3                  HGST HMS5C4040BLE640  12880\n4                           ST8000DM002   9875\n5                  HGST HMS5C4040ALE640   3653\n6                  HGST HUH721212ALN604   2475\n7                           ST6000DX000   1524\n8                   TOSHIBA MG07ACA14TA   1220\n9                         ST10000NM0086   1207\n10                 HGST HUH728080ALE600   1045\n11                        ST500LM012 HN    579\n12                   TOSHIBA MQ01ABF050    524\n13                         WDC WD60EFRX    382\n14                  TOSHIBA MQ01ABF050M    352\n15                       WDC WD5000LPVX    250\n16                           ST500LM030    153\n17                  TOSHIBA MD04ABA400V    144\n18                          ST4000DM005     56\n19                       WDC WD5000LPCX     55\n20                  TOSHIBA MD04ABA500V     45\n21                 HGST HDS5C4040ALE630     32\n22                 HGST HUS726040ALE610     29\n23                          ST8000DM005     25\n24                      TOSHIBA HDWF180     20\n25   Seagate BarraCuda SSD ZA500CM10002     18\n26                          ST6000DM001     13\n27                 HGST HUH721010ALE600     13\n28                       WDC WD5000BPKT     11\n29                      TOSHIBA HDWE160     10\n30              Hitachi HDS5C4040ALE630      8\n31                          ST8000DM004      3\n32  Seagate BarraCuda SSD ZA2000CM10002      3\n33                          ST6000DM004      2\n34                           ST320LT007      1\n35                 HGST HMS5C4040BLE641      1\n36                       ST1000LM024 HN      1\n37                       WDC WD2500AAJS      1\n38                         WDC WD40EFRX      1",
      "text/html": "<div>\n<style scoped>\n    .dataframe tbody tr th:only-of-type {\n        vertical-align: middle;\n    }\n\n    .dataframe tbody tr th {\n        vertical-align: top;\n    }\n\n    .dataframe thead th {\n        text-align: right;\n    }\n</style>\n<table border=\"1\" class=\"dataframe\">\n  <thead>\n    <tr style=\"text-align: right;\">\n      <th></th>\n      <th>model</th>\n      <th>count</th>\n    </tr>\n  </thead>\n  <tbody>\n    <tr>\n      <th>0</th>\n      <td>ST12000NM0007</td>\n      <td>32245</td>\n    </tr>\n    <tr>\n      <th>1</th>\n      <td>ST4000DM000</td>\n      <td>22854</td>\n    </tr>\n    <tr>\n      <th>2</th>\n      <td>ST8000NM0055</td>\n      <td>14383</td>\n    </tr>\n    <tr>\n      <th>3</th>\n      <td>HGST HMS5C4040BLE640</td>\n      <td>12880</td>\n    </tr>\n    <tr>\n      <th>4</th>\n      <td>ST8000DM002</td>\n      <td>9875</td>\n    </tr>\n    <tr>\n      <th>5</th>\n      <td>HGST HMS5C4040ALE640</td>\n      <td>3653</td>\n    </tr>\n    <tr>\n      <th>6</th>\n      <td>HGST HUH721212ALN604</td>\n      <td>2475</td>\n    </tr>\n    <tr>\n      <th>7</th>\n      <td>ST6000DX000</td>\n      <td>1524</td>\n    </tr>\n    <tr>\n      <th>8</th>\n      <td>TOSHIBA MG07ACA14TA</td>\n      <td>1220</td>\n    </tr>\n    <tr>\n      <th>9</th>\n      <td>ST10000NM0086</td>\n      <td>1207</td>\n    </tr>\n    <tr>\n      <th>10</th>\n      <td>HGST HUH728080ALE600</td>\n      <td>1045</td>\n    </tr>\n    <tr>\n      <th>11</th>\n      <td>ST500LM012 HN</td>\n      <td>579</td>\n    </tr>\n    <tr>\n      <th>12</th>\n      <td>TOSHIBA MQ01ABF050</td>\n      <td>524</td>\n    </tr>\n    <tr>\n      <th>13</th>\n      <td>WDC WD60EFRX</td>\n      <td>382</td>\n    </tr>\n    <tr>\n      <th>14</th>\n      <td>TOSHIBA MQ01ABF050M</td>\n      <td>352</td>\n    </tr>\n    <tr>\n      <th>15</th>\n      <td>WDC WD5000LPVX</td>\n      <td>250</td>\n    </tr>\n    <tr>\n      <th>16</th>\n      <td>ST500LM030</td>\n      <td>153</td>\n    </tr>\n    <tr>\n      <th>17</th>\n      <td>TOSHIBA MD04ABA400V</td>\n      <td>144</td>\n    </tr>\n    <tr>\n      <th>18</th>\n      <td>ST4000DM005</td>\n      <td>56</td>\n    </tr>\n    <tr>\n      <th>19</th>\n      <td>WDC WD5000LPCX</td>\n      <td>55</td>\n    </tr>\n    <tr>\n      <th>20</th>\n      <td>TOSHIBA MD04ABA500V</td>\n      <td>45</td>\n    </tr>\n    <tr>\n      <th>21</th>\n      <td>HGST HDS5C4040ALE630</td>\n      <td>32</td>\n    </tr>\n    <tr>\n      <th>22</th>\n      <td>HGST HUS726040ALE610</td>\n      <td>29</td>\n    </tr>\n    <tr>\n      <th>23</th>\n      <td>ST8000DM005</td>\n      <td>25</td>\n    </tr>\n    <tr>\n      <th>24</th>\n      <td>TOSHIBA HDWF180</td>\n      <td>20</td>\n    </tr>\n    <tr>\n      <th>25</th>\n      <td>Seagate BarraCuda SSD ZA500CM10002</td>\n      <td>18</td>\n    </tr>\n    <tr>\n      <th>26</th>\n      <td>ST6000DM001</td>\n      <td>13</td>\n    </tr>\n    <tr>\n      <th>27</th>\n      <td>HGST HUH721010ALE600</td>\n      <td>13</td>\n    </tr>\n    <tr>\n      <th>28</th>\n      <td>WDC WD5000BPKT</td>\n      <td>11</td>\n    </tr>\n    <tr>\n      <th>29</th>\n      <td>TOSHIBA HDWE160</td>\n      <td>10</td>\n    </tr>\n    <tr>\n      <th>30</th>\n      <td>Hitachi HDS5C4040ALE630</td>\n      <td>8</td>\n    </tr>\n    <tr>\n      <th>31</th>\n      <td>ST8000DM004</td>\n      <td>3</td>\n    </tr>\n    <tr>\n      <th>32</th>\n      <td>Seagate BarraCuda SSD ZA2000CM10002</td>\n      <td>3</td>\n    </tr>\n    <tr>\n      <th>33</th>\n      <td>ST6000DM004</td>\n      <td>2</td>\n    </tr>\n    <tr>\n      <th>34</th>\n      <td>ST320LT007</td>\n      <td>1</td>\n    </tr>\n    <tr>\n      <th>35</th>\n      <td>HGST HMS5C4040BLE641</td>\n      <td>1</td>\n    </tr>\n    <tr>\n      <th>36</th>\n      <td>ST1000LM024 HN</td>\n      <td>1</td>\n    </tr>\n    <tr>\n      <th>37</th>\n      <td>WDC WD2500AAJS</td>\n      <td>1</td>\n    </tr>\n    <tr>\n      <th>38</th>\n      <td>WDC WD40EFRX</td>\n      <td>1</td>\n    </tr>\n  </tbody>\n</table>\n</div>"
     },
     "execution_count": 52,
     "metadata": {},
     "output_type": "execute_result"
    }
   ],
   "source": [
    "model_count"
   ],
   "metadata": {
    "collapsed": false,
    "ExecuteTime": {
     "end_time": "2024-02-01T11:54:59.894389600Z",
     "start_time": "2024-02-01T11:54:59.871204700Z"
    }
   },
   "id": "443737f23d2b45a6",
   "execution_count": 52
  },
  {
   "cell_type": "code",
   "outputs": [
    {
     "data": {
      "text/plain": "                   model  drive_days  failures  count\n0          ST12000NM0007     2955025       174  32245\n1            ST4000DM000     1989429       106  22854\n2           ST8000NM0055     1294451        57  14383\n3   HGST HMS5C4040BLE640     1172824        11  12880\n4            ST8000DM002      888741        27   9875\n5   HGST HMS5C4040ALE640      313383         2   3653\n6   HGST HUH721212ALN604      259749         4   2475\n7            ST6000DX000      135832         1   1524\n8          ST10000NM0086      108555         3   1207\n9   HGST HUH728080ALE600       93598         3   1045\n10         ST500LM012 HN       50619         9    579\n11    TOSHIBA MQ01ABF050       46969        13    524\n12   TOSHIBA MQ01ABF050M       32624         3    352\n13          WDC WD60EFRX       30523         1    382\n14        WDC WD5000LPVX       22015         2    250\n15            ST500LM030       14479         8    153\n16        WDC WD5000LPCX        4920         2     55\n17           ST8000DM004         273         1      3",
      "text/html": "<div>\n<style scoped>\n    .dataframe tbody tr th:only-of-type {\n        vertical-align: middle;\n    }\n\n    .dataframe tbody tr th {\n        vertical-align: top;\n    }\n\n    .dataframe thead th {\n        text-align: right;\n    }\n</style>\n<table border=\"1\" class=\"dataframe\">\n  <thead>\n    <tr style=\"text-align: right;\">\n      <th></th>\n      <th>model</th>\n      <th>drive_days</th>\n      <th>failures</th>\n      <th>count</th>\n    </tr>\n  </thead>\n  <tbody>\n    <tr>\n      <th>0</th>\n      <td>ST12000NM0007</td>\n      <td>2955025</td>\n      <td>174</td>\n      <td>32245</td>\n    </tr>\n    <tr>\n      <th>1</th>\n      <td>ST4000DM000</td>\n      <td>1989429</td>\n      <td>106</td>\n      <td>22854</td>\n    </tr>\n    <tr>\n      <th>2</th>\n      <td>ST8000NM0055</td>\n      <td>1294451</td>\n      <td>57</td>\n      <td>14383</td>\n    </tr>\n    <tr>\n      <th>3</th>\n      <td>HGST HMS5C4040BLE640</td>\n      <td>1172824</td>\n      <td>11</td>\n      <td>12880</td>\n    </tr>\n    <tr>\n      <th>4</th>\n      <td>ST8000DM002</td>\n      <td>888741</td>\n      <td>27</td>\n      <td>9875</td>\n    </tr>\n    <tr>\n      <th>5</th>\n      <td>HGST HMS5C4040ALE640</td>\n      <td>313383</td>\n      <td>2</td>\n      <td>3653</td>\n    </tr>\n    <tr>\n      <th>6</th>\n      <td>HGST HUH721212ALN604</td>\n      <td>259749</td>\n      <td>4</td>\n      <td>2475</td>\n    </tr>\n    <tr>\n      <th>7</th>\n      <td>ST6000DX000</td>\n      <td>135832</td>\n      <td>1</td>\n      <td>1524</td>\n    </tr>\n    <tr>\n      <th>8</th>\n      <td>ST10000NM0086</td>\n      <td>108555</td>\n      <td>3</td>\n      <td>1207</td>\n    </tr>\n    <tr>\n      <th>9</th>\n      <td>HGST HUH728080ALE600</td>\n      <td>93598</td>\n      <td>3</td>\n      <td>1045</td>\n    </tr>\n    <tr>\n      <th>10</th>\n      <td>ST500LM012 HN</td>\n      <td>50619</td>\n      <td>9</td>\n      <td>579</td>\n    </tr>\n    <tr>\n      <th>11</th>\n      <td>TOSHIBA MQ01ABF050</td>\n      <td>46969</td>\n      <td>13</td>\n      <td>524</td>\n    </tr>\n    <tr>\n      <th>12</th>\n      <td>TOSHIBA MQ01ABF050M</td>\n      <td>32624</td>\n      <td>3</td>\n      <td>352</td>\n    </tr>\n    <tr>\n      <th>13</th>\n      <td>WDC WD60EFRX</td>\n      <td>30523</td>\n      <td>1</td>\n      <td>382</td>\n    </tr>\n    <tr>\n      <th>14</th>\n      <td>WDC WD5000LPVX</td>\n      <td>22015</td>\n      <td>2</td>\n      <td>250</td>\n    </tr>\n    <tr>\n      <th>15</th>\n      <td>ST500LM030</td>\n      <td>14479</td>\n      <td>8</td>\n      <td>153</td>\n    </tr>\n    <tr>\n      <th>16</th>\n      <td>WDC WD5000LPCX</td>\n      <td>4920</td>\n      <td>2</td>\n      <td>55</td>\n    </tr>\n    <tr>\n      <th>17</th>\n      <td>ST8000DM004</td>\n      <td>273</td>\n      <td>1</td>\n      <td>3</td>\n    </tr>\n  </tbody>\n</table>\n</div>"
     },
     "execution_count": 60,
     "metadata": {},
     "output_type": "execute_result"
    }
   ],
   "source": [
    "# Merge dataframes\n",
    "# The on='model' argument in the pd.merge function indicates that the merge should be performed \n",
    "# based on the model column, and only rows with matching model values in both DataFrames will \n",
    "# be included in the result.\n",
    "merged_df = pd.merge(drive_days, failures, on='model')\n",
    "merged_df = pd.merge(merged_df, model_count, on='model')\n",
    "merged_df"
   ],
   "metadata": {
    "collapsed": false,
    "ExecuteTime": {
     "end_time": "2024-02-01T12:04:35.691119Z",
     "start_time": "2024-02-01T12:04:35.679934600Z"
    }
   },
   "id": "65901a04135c5ac2",
   "execution_count": 60
  },
  {
   "cell_type": "code",
   "outputs": [
    {
     "data": {
      "text/plain": "                   model  drive_days  failures  count  drive_years  \\\n0          ST12000NM0007     2955025       174  32245  8095.958904   \n1            ST4000DM000     1989429       106  22854  5450.490411   \n2           ST8000NM0055     1294451        57  14383  3546.441096   \n3   HGST HMS5C4040BLE640     1172824        11  12880  3213.216438   \n4            ST8000DM002      888741        27   9875  2434.906849   \n5   HGST HMS5C4040ALE640      313383         2   3653   858.583562   \n6   HGST HUH721212ALN604      259749         4   2475   711.641096   \n7            ST6000DX000      135832         1   1524   372.142466   \n8          ST10000NM0086      108555         3   1207   297.410959   \n9   HGST HUH728080ALE600       93598         3   1045   256.432877   \n10         ST500LM012 HN       50619         9    579   138.682192   \n11    TOSHIBA MQ01ABF050       46969        13    524   128.682192   \n12   TOSHIBA MQ01ABF050M       32624         3    352    89.380822   \n13          WDC WD60EFRX       30523         1    382    83.624658   \n14        WDC WD5000LPVX       22015         2    250    60.315068   \n15            ST500LM030       14479         8    153    39.668493   \n16        WDC WD5000LPCX        4920         2     55    13.479452   \n17           ST8000DM004         273         1      3     0.747945   \n\n    annual_failure_rate (%)  \n0                  2.149220  \n1                  1.944779  \n2                  1.607245  \n3                  0.342336  \n4                  1.108872  \n5                  0.232942  \n6                  0.562081  \n7                  0.268714  \n8                  1.008705  \n9                  1.169897  \n10                 6.489658  \n11                10.102408  \n12                 3.356425  \n13                 1.195820  \n14                 3.315921  \n15                20.167139  \n16                14.837398  \n17               133.699634  ",
      "text/html": "<div>\n<style scoped>\n    .dataframe tbody tr th:only-of-type {\n        vertical-align: middle;\n    }\n\n    .dataframe tbody tr th {\n        vertical-align: top;\n    }\n\n    .dataframe thead th {\n        text-align: right;\n    }\n</style>\n<table border=\"1\" class=\"dataframe\">\n  <thead>\n    <tr style=\"text-align: right;\">\n      <th></th>\n      <th>model</th>\n      <th>drive_days</th>\n      <th>failures</th>\n      <th>count</th>\n      <th>drive_years</th>\n      <th>annual_failure_rate (%)</th>\n    </tr>\n  </thead>\n  <tbody>\n    <tr>\n      <th>0</th>\n      <td>ST12000NM0007</td>\n      <td>2955025</td>\n      <td>174</td>\n      <td>32245</td>\n      <td>8095.958904</td>\n      <td>2.149220</td>\n    </tr>\n    <tr>\n      <th>1</th>\n      <td>ST4000DM000</td>\n      <td>1989429</td>\n      <td>106</td>\n      <td>22854</td>\n      <td>5450.490411</td>\n      <td>1.944779</td>\n    </tr>\n    <tr>\n      <th>2</th>\n      <td>ST8000NM0055</td>\n      <td>1294451</td>\n      <td>57</td>\n      <td>14383</td>\n      <td>3546.441096</td>\n      <td>1.607245</td>\n    </tr>\n    <tr>\n      <th>3</th>\n      <td>HGST HMS5C4040BLE640</td>\n      <td>1172824</td>\n      <td>11</td>\n      <td>12880</td>\n      <td>3213.216438</td>\n      <td>0.342336</td>\n    </tr>\n    <tr>\n      <th>4</th>\n      <td>ST8000DM002</td>\n      <td>888741</td>\n      <td>27</td>\n      <td>9875</td>\n      <td>2434.906849</td>\n      <td>1.108872</td>\n    </tr>\n    <tr>\n      <th>5</th>\n      <td>HGST HMS5C4040ALE640</td>\n      <td>313383</td>\n      <td>2</td>\n      <td>3653</td>\n      <td>858.583562</td>\n      <td>0.232942</td>\n    </tr>\n    <tr>\n      <th>6</th>\n      <td>HGST HUH721212ALN604</td>\n      <td>259749</td>\n      <td>4</td>\n      <td>2475</td>\n      <td>711.641096</td>\n      <td>0.562081</td>\n    </tr>\n    <tr>\n      <th>7</th>\n      <td>ST6000DX000</td>\n      <td>135832</td>\n      <td>1</td>\n      <td>1524</td>\n      <td>372.142466</td>\n      <td>0.268714</td>\n    </tr>\n    <tr>\n      <th>8</th>\n      <td>ST10000NM0086</td>\n      <td>108555</td>\n      <td>3</td>\n      <td>1207</td>\n      <td>297.410959</td>\n      <td>1.008705</td>\n    </tr>\n    <tr>\n      <th>9</th>\n      <td>HGST HUH728080ALE600</td>\n      <td>93598</td>\n      <td>3</td>\n      <td>1045</td>\n      <td>256.432877</td>\n      <td>1.169897</td>\n    </tr>\n    <tr>\n      <th>10</th>\n      <td>ST500LM012 HN</td>\n      <td>50619</td>\n      <td>9</td>\n      <td>579</td>\n      <td>138.682192</td>\n      <td>6.489658</td>\n    </tr>\n    <tr>\n      <th>11</th>\n      <td>TOSHIBA MQ01ABF050</td>\n      <td>46969</td>\n      <td>13</td>\n      <td>524</td>\n      <td>128.682192</td>\n      <td>10.102408</td>\n    </tr>\n    <tr>\n      <th>12</th>\n      <td>TOSHIBA MQ01ABF050M</td>\n      <td>32624</td>\n      <td>3</td>\n      <td>352</td>\n      <td>89.380822</td>\n      <td>3.356425</td>\n    </tr>\n    <tr>\n      <th>13</th>\n      <td>WDC WD60EFRX</td>\n      <td>30523</td>\n      <td>1</td>\n      <td>382</td>\n      <td>83.624658</td>\n      <td>1.195820</td>\n    </tr>\n    <tr>\n      <th>14</th>\n      <td>WDC WD5000LPVX</td>\n      <td>22015</td>\n      <td>2</td>\n      <td>250</td>\n      <td>60.315068</td>\n      <td>3.315921</td>\n    </tr>\n    <tr>\n      <th>15</th>\n      <td>ST500LM030</td>\n      <td>14479</td>\n      <td>8</td>\n      <td>153</td>\n      <td>39.668493</td>\n      <td>20.167139</td>\n    </tr>\n    <tr>\n      <th>16</th>\n      <td>WDC WD5000LPCX</td>\n      <td>4920</td>\n      <td>2</td>\n      <td>55</td>\n      <td>13.479452</td>\n      <td>14.837398</td>\n    </tr>\n    <tr>\n      <th>17</th>\n      <td>ST8000DM004</td>\n      <td>273</td>\n      <td>1</td>\n      <td>3</td>\n      <td>0.747945</td>\n      <td>133.699634</td>\n    </tr>\n  </tbody>\n</table>\n</div>"
     },
     "execution_count": 61,
     "metadata": {},
     "output_type": "execute_result"
    }
   ],
   "source": [
    "# Calculate annual failure rate\n",
    "failure_rates = merged_df.copy()\n",
    "failure_rates['drive_years'] = failure_rates['drive_days'] / 365\n",
    "failure_rates['annual_failure_rate (%)'] = (failure_rates['failures'] / failure_rates['drive_years']) * 100\n",
    "failure_rates"
   ],
   "metadata": {
    "collapsed": false,
    "ExecuteTime": {
     "end_time": "2024-02-01T12:08:15.417742900Z",
     "start_time": "2024-02-01T12:08:15.390696900Z"
    }
   },
   "id": "883658ec281cdb28",
   "execution_count": 61
  },
  {
   "cell_type": "markdown",
   "source": [
    "### Testing out rule 2 on table 6 from https://www.kdd.org/kdd2016/papers/files/adf0849-botezatuA.pdf\n",
    "### Seems like the information is not true"
   ],
   "metadata": {
    "collapsed": false
   },
   "id": "b51fa828889e8b03"
  },
  {
   "cell_type": "code",
   "outputs": [
    {
     "data": {
      "text/plain": "                     model  failure  smart_197_raw\n264          ST12000NM0007        0           88.0\n440            ST8000DM002        0           24.0\n534   HGST HMS5C4040BLE640        0            8.0\n719           ST8000NM0055        0           16.0\n945            ST4000DM000        0           16.0\n1158           ST4000DM000        0           16.0\n1446           ST4000DM000        0            8.0\n1478  HGST HMS5C4040BLE640        0           56.0\n1516           ST4000DM000        0            8.0\n2043           ST4000DM000        0           24.0",
      "text/html": "<div>\n<style scoped>\n    .dataframe tbody tr th:only-of-type {\n        vertical-align: middle;\n    }\n\n    .dataframe tbody tr th {\n        vertical-align: top;\n    }\n\n    .dataframe thead th {\n        text-align: right;\n    }\n</style>\n<table border=\"1\" class=\"dataframe\">\n  <thead>\n    <tr style=\"text-align: right;\">\n      <th></th>\n      <th>model</th>\n      <th>failure</th>\n      <th>smart_197_raw</th>\n    </tr>\n  </thead>\n  <tbody>\n    <tr>\n      <th>264</th>\n      <td>ST12000NM0007</td>\n      <td>0</td>\n      <td>88.0</td>\n    </tr>\n    <tr>\n      <th>440</th>\n      <td>ST8000DM002</td>\n      <td>0</td>\n      <td>24.0</td>\n    </tr>\n    <tr>\n      <th>534</th>\n      <td>HGST HMS5C4040BLE640</td>\n      <td>0</td>\n      <td>8.0</td>\n    </tr>\n    <tr>\n      <th>719</th>\n      <td>ST8000NM0055</td>\n      <td>0</td>\n      <td>16.0</td>\n    </tr>\n    <tr>\n      <th>945</th>\n      <td>ST4000DM000</td>\n      <td>0</td>\n      <td>16.0</td>\n    </tr>\n    <tr>\n      <th>1158</th>\n      <td>ST4000DM000</td>\n      <td>0</td>\n      <td>16.0</td>\n    </tr>\n    <tr>\n      <th>1446</th>\n      <td>ST4000DM000</td>\n      <td>0</td>\n      <td>8.0</td>\n    </tr>\n    <tr>\n      <th>1478</th>\n      <td>HGST HMS5C4040BLE640</td>\n      <td>0</td>\n      <td>56.0</td>\n    </tr>\n    <tr>\n      <th>1516</th>\n      <td>ST4000DM000</td>\n      <td>0</td>\n      <td>8.0</td>\n    </tr>\n    <tr>\n      <th>2043</th>\n      <td>ST4000DM000</td>\n      <td>0</td>\n      <td>24.0</td>\n    </tr>\n  </tbody>\n</table>\n</div>"
     },
     "execution_count": 70,
     "metadata": {},
     "output_type": "execute_result"
    }
   ],
   "source": [
    "filtered_df = df[df['smart_197_raw'] >= 2]\n",
    "filtered_df[['model', 'failure', 'smart_197_raw']].head(10)"
   ],
   "metadata": {
    "collapsed": false,
    "ExecuteTime": {
     "end_time": "2024-02-01T12:30:15.464347500Z",
     "start_time": "2024-02-01T12:29:59.344099900Z"
    }
   },
   "id": "383f4f07bebc195e",
   "execution_count": 70
  },
  {
   "cell_type": "code",
   "outputs": [],
   "source": [],
   "metadata": {
    "collapsed": false
   },
   "id": "6a62bc43859091d6"
  }
 ],
 "metadata": {
  "kernelspec": {
   "display_name": "Python 3",
   "language": "python",
   "name": "python3"
  },
  "language_info": {
   "codemirror_mode": {
    "name": "ipython",
    "version": 2
   },
   "file_extension": ".py",
   "mimetype": "text/x-python",
   "name": "python",
   "nbconvert_exporter": "python",
   "pygments_lexer": "ipython2",
   "version": "2.7.6"
  }
 },
 "nbformat": 4,
 "nbformat_minor": 5
}
