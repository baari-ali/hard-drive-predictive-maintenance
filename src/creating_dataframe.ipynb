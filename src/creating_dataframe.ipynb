{
 "cells": [
  {
   "cell_type": "markdown",
   "id": "ef9cb6c8-3989-4d40-9cd2-b482951d15be",
   "metadata": {},
   "source": [
    "# Step 1: Creating the DataFrame"
   ]
  },
  {
   "cell_type": "code",
   "execution_count": 1,
   "id": "e08d4933",
   "metadata": {
    "tags": []
   },
   "outputs": [],
   "source": [
    "import os\n",
    "import pandas as pd\n",
    "from zipfile import ZipFile\n",
    "from tqdm import tqdm"
   ]
  },
  {
   "cell_type": "code",
   "execution_count": 2,
   "id": "33cf5bdc",
   "metadata": {
    "tags": []
   },
   "outputs": [],
   "source": [
    "current_dir = os.getcwd()"
   ]
  },
  {
   "cell_type": "code",
   "execution_count": 3,
   "id": "91550825-29d2-409e-b851-219619848006",
   "metadata": {
    "tags": []
   },
   "outputs": [
    {
     "name": "stdout",
     "output_type": "stream",
     "text": [
      "creating_dataframe.ipynb\n",
      "data_preprocessing.ipynb\n",
      "decision_tree_and_random_forest_modelling.ipynb\n",
      "creating_dataframe-checkpoint.ipynb\n"
     ]
    }
   ],
   "source": [
    "for dirpath, dirname, filenames in os.walk(current_dir):\n",
    "    for filename in filenames:\n",
    "        print(filename)"
   ]
  },
  {
   "cell_type": "code",
   "execution_count": null,
   "id": "6a9f5993",
   "metadata": {},
   "outputs": [],
   "source": [
    "def create_dataframe(zip_file_path):\n",
    "    \"\"\"\n",
    "    Read all CSV files from a zip file and concatenate them into one dataframe.\n",
    "    Parameters:\n",
    "        zip_file_path (str): Path to the zip file.\n",
    "    Returns:\n",
    "        pd.DataFrame: Concatenated dataframe of all CSV files.\n",
    "    \"\"\"\n",
    "    dataframes = []\n",
    "    with ZipFile(zip_file_path, 'r') as zip_file:\n",
    "        csv_file_names = [name for name in zip_file.namelist() if name.endswith('.csv') and not name.startswith('__MACOSX')]\n",
    "        for csv_file_name in tqdm(csv_file_names, desc=f'Processing CSV files in {zip_file_path}'):\n",
    "            with zip_file.open(csv_file_name) as csv_file:\n",
    "                df = pd.read_csv(csv_file)\n",
    "                dataframes.append(df)\n",
    "                \n",
    "    result_df = pd.concat(dataframes, ignore_index=True)\n",
    "    return result_df"
   ]
  },
  {
   "cell_type": "markdown",
   "id": "ce53751b",
   "metadata": {},
   "source": [
    "### Getting data for Q1"
   ]
  },
  {
   "cell_type": "code",
   "execution_count": null,
   "id": "f22a20ae",
   "metadata": {},
   "outputs": [],
   "source": [
    "Q1 = create_dataframe('../dataset/data_Q1_2019.zip')"
   ]
  },
  {
   "cell_type": "code",
   "execution_count": null,
   "id": "49ae4de8",
   "metadata": {},
   "outputs": [],
   "source": [
    "Q1.to_csv('Q1_2019.csv', index=False)"
   ]
  },
  {
   "cell_type": "markdown",
   "id": "a4e5103e",
   "metadata": {},
   "source": [
    "### Getting data for Q2"
   ]
  },
  {
   "cell_type": "code",
   "execution_count": null,
   "id": "6055005b",
   "metadata": {},
   "outputs": [],
   "source": [
    "Q2 = create_dataframe('../dataset/data_Q2_2019.zip')"
   ]
  },
  {
   "cell_type": "code",
   "execution_count": null,
   "id": "8fef2f19",
   "metadata": {},
   "outputs": [],
   "source": [
    "Q2.to_csv('Q2_2019.csv', index=False)"
   ]
  },
  {
   "cell_type": "markdown",
   "id": "2d519d66",
   "metadata": {},
   "source": [
    "### Getting data for Q3"
   ]
  },
  {
   "cell_type": "code",
   "execution_count": null,
   "id": "ed0dc388",
   "metadata": {},
   "outputs": [],
   "source": [
    "Q3 = create_dataframe('../dataset/data_Q3_2019.zip')"
   ]
  },
  {
   "cell_type": "code",
   "execution_count": null,
   "id": "6cdacf47",
   "metadata": {},
   "outputs": [],
   "source": [
    "Q3.to_csv('Q3_2019.csv', index=False)"
   ]
  },
  {
   "cell_type": "markdown",
   "id": "9b7c27c4",
   "metadata": {},
   "source": [
    "### Getting data for Q4"
   ]
  },
  {
   "cell_type": "code",
   "execution_count": null,
   "id": "ee7cf819",
   "metadata": {},
   "outputs": [],
   "source": [
    "Q4 = create_dataframe('../dataset/data_Q4_2019.zip')"
   ]
  },
  {
   "cell_type": "code",
   "execution_count": null,
   "id": "cd495eaf",
   "metadata": {},
   "outputs": [],
   "source": [
    "Q4.to_csv('Q4_2019.csv', index=False)"
   ]
  }
 ],
 "metadata": {
  "kernelspec": {
   "display_name": "Python 3 (ipykernel)",
   "language": "python",
   "name": "python3"
  },
  "language_info": {
   "codemirror_mode": {
    "name": "ipython",
    "version": 3
   },
   "file_extension": ".py",
   "mimetype": "text/x-python",
   "name": "python",
   "nbconvert_exporter": "python",
   "pygments_lexer": "ipython3",
   "version": "3.11.6"
  }
 },
 "nbformat": 4,
 "nbformat_minor": 5
}
