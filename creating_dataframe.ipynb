{
 "cells": [
  {
   "cell_type": "code",
   "execution_count": null,
   "id": "e08d4933",
   "metadata": {},
   "outputs": [],
   "source": [
    "import os\n",
    "import pandas as pd\n",
    "from zipfile import ZipFile\n",
    "from tqdm import tqdm"
   ]
  },
  {
   "cell_type": "code",
   "execution_count": null,
   "id": "33cf5bdc",
   "metadata": {},
   "outputs": [],
   "source": [
    "os.getcwd()"
   ]
  },
  {
   "cell_type": "code",
   "execution_count": null,
   "id": "a2f34df2",
   "metadata": {},
   "outputs": [],
   "source": [
    "path = '/Users/baari/Desktop/hard-drive-predictive-maintenance'\n",
    "os.chdir(path)\n",
    "os.getcwd()"
   ]
  },
  {
   "cell_type": "code",
   "execution_count": null,
   "id": "6a9f5993",
   "metadata": {},
   "outputs": [],
   "source": [
    "def create_dataframe(zip_file_path):\n",
    "    \"\"\"\n",
    "    Read all CSV files from a zip file and concatenate them into one dataframe.\n",
    "\n",
    "    Parameters:\n",
    "        zip_file_path (str): Path to the zip file.\n",
    "\n",
    "    Returns:\n",
    "        pd.DataFrame: Concatenated dataframe of all CSV files.\n",
    "    \"\"\"\n",
    "    dfs = []  # An empty list to store dataframes\n",
    "\n",
    "    with ZipFile(zip_file_path, 'r') as zip_file:\n",
    "        # Get a list of file names inside the zip folder\n",
    "        csv_file_names = [name for name in zip_file.namelist() if name.endswith('.csv') and not name.startswith('__MACOSX')]\n",
    "\n",
    "        for csv_file_name in tqdm(csv_file_names, desc=f'Processing CSV files in {zip_file_path}'):\n",
    "            with zip_file.open(csv_file_name) as csv_file:\n",
    "                df = pd.read_csv(csv_file)\n",
    "                dfs.append(df)\n",
    "\n",
    "    # Concatenate all dataframes in the list\n",
    "    result_df = pd.concat(dfs, ignore_index=True)\n",
    "\n",
    "    return result_df\n"
   ]
  },
  {
   "cell_type": "markdown",
   "id": "ce53751b",
   "metadata": {},
   "source": [
    "### Getting data for Q1"
   ]
  },
  {
   "cell_type": "code",
   "execution_count": null,
   "id": "f22a20ae",
   "metadata": {},
   "outputs": [],
   "source": [
    "Q1 = create_dataframe('data/data_Q1_2019.zip')"
   ]
  },
  {
   "cell_type": "code",
   "execution_count": null,
   "id": "49ae4de8",
   "metadata": {},
   "outputs": [],
   "source": [
    "Q1.to_csv('Q1_2019.csv', index=False)"
   ]
  },
  {
   "cell_type": "markdown",
   "id": "a4e5103e",
   "metadata": {},
   "source": [
    "### Getting data for Q2"
   ]
  },
  {
   "cell_type": "code",
   "execution_count": null,
   "id": "6055005b",
   "metadata": {},
   "outputs": [],
   "source": [
    "Q2 = create_dataframe('data/data_Q2_2019.zip')"
   ]
  },
  {
   "cell_type": "code",
   "execution_count": null,
   "id": "8fef2f19",
   "metadata": {},
   "outputs": [],
   "source": [
    "Q2.to_csv('Q2_2019.csv', index=False)"
   ]
  },
  {
   "cell_type": "markdown",
   "id": "2d519d66",
   "metadata": {},
   "source": [
    "### Getting data for Q3"
   ]
  },
  {
   "cell_type": "code",
   "execution_count": null,
   "id": "ed0dc388",
   "metadata": {},
   "outputs": [],
   "source": [
    "Q3 = create_dataframe('data/data_Q3_2019.zip')"
   ]
  },
  {
   "cell_type": "code",
   "execution_count": null,
   "id": "6cdacf47",
   "metadata": {},
   "outputs": [],
   "source": [
    "Q3.to_csv('Q3_2019.csv', index=False)"
   ]
  },
  {
   "cell_type": "markdown",
   "id": "9b7c27c4",
   "metadata": {},
   "source": [
    "### Getting data for Q4"
   ]
  },
  {
   "cell_type": "code",
   "execution_count": null,
   "id": "ee7cf819",
   "metadata": {},
   "outputs": [],
   "source": [
    "Q4 = create_dataframe('data/data_Q4_2019.zip')"
   ]
  },
  {
   "cell_type": "code",
   "execution_count": null,
   "id": "cd495eaf",
   "metadata": {},
   "outputs": [],
   "source": [
    "Q4.to_csv('Q4_2019.csv', index=False)"
   ]
  }
 ],
 "metadata": {
  "kernelspec": {
   "display_name": "Python 3 (ipykernel)",
   "language": "python",
   "name": "python3"
  },
  "language_info": {
   "codemirror_mode": {
    "name": "ipython",
    "version": 3
   },
   "file_extension": ".py",
   "mimetype": "text/x-python",
   "name": "python",
   "nbconvert_exporter": "python",
   "pygments_lexer": "ipython3",
   "version": "3.11.6"
  }
 },
 "nbformat": 4,
 "nbformat_minor": 5
}
