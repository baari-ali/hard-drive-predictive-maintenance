{
 "cells": [
  {
   "cell_type": "code",
   "execution_count": 1,
   "id": "c2a1b825",
   "metadata": {},
   "outputs": [],
   "source": [
    "import os"
   ]
  },
  {
   "cell_type": "code",
   "execution_count": 2,
   "id": "0009588a",
   "metadata": {},
   "outputs": [
    {
     "data": {
      "text/plain": [
       "'C:\\\\Users\\\\baari\\\\Desktop'"
      ]
     },
     "execution_count": 2,
     "metadata": {},
     "output_type": "execute_result"
    }
   ],
   "source": [
    "os.getcwd()"
   ]
  },
  {
   "cell_type": "code",
   "execution_count": 3,
   "id": "7343e9af",
   "metadata": {},
   "outputs": [],
   "source": [
    "zip_file_path = 'data/data_Q1_2019.zip'"
   ]
  },
  {
   "cell_type": "code",
   "execution_count": null,
   "id": "7969c47c",
   "metadata": {},
   "outputs": [],
   "source": [
    "# Open the zip file\n",
    "with ZipFile(zip_file_path, 'r') as zip_file:\n",
    "    # Get a list of file names inside the zip folder\n",
    "    csv_file_names = [name for name in zip_file.namelist() if name.endswith('.csv') and not name.startswith('__MACOSX')]\n",
    "    # print(csv_file_names)\n",
    "    \n",
    "    dfs = []  # An empty list to store dataframes\n",
    "    \n",
    "    for i in tqdm(csv_file_names, desc='Processing CSV files'):\n",
    "        with zip_file.open(i) as csv_file:\n",
    "            df = pd.read_csv(csv_file)\n",
    "            dfs.append(df)\n",
    "\n",
    "# Concatenate all dataframes in the list\n",
    "df_Q1_2019 = pd.concat(dfs, ignore_index=True)"
   ]
  },
  {
   "cell_type": "code",
   "execution_count": null,
   "id": "e50844bb",
   "metadata": {},
   "outputs": [],
   "source": [
    "df_Q1_2019.to_csv('Q1_2019_data', index=False)"
   ]
  }
 ],
 "metadata": {
  "kernelspec": {
   "display_name": "Python 3 (ipykernel)",
   "language": "python",
   "name": "python3"
  },
  "language_info": {
   "codemirror_mode": {
    "name": "ipython",
    "version": 3
   },
   "file_extension": ".py",
   "mimetype": "text/x-python",
   "name": "python",
   "nbconvert_exporter": "python",
   "pygments_lexer": "ipython3",
   "version": "3.11.5"
  }
 },
 "nbformat": 4,
 "nbformat_minor": 5
}
